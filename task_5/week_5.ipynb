{
 "cells": [
  {
   "cell_type": "code",
   "execution_count": 1,
   "metadata": {},
   "outputs": [],
   "source": [
    "import requests\n",
    "import bs4"
   ]
  },
  {
   "cell_type": "markdown",
   "metadata": {},
   "source": [
    "### Задание \n",
    "Чтобы продемонстрировать, что вы разобрались, как использовать requests и beautiful soup, распарсите: а) из статьи https://en.wikipedia.org/wiki/Bias-variance_tradeoff все заголовки верхнего уровня; б) со страницы https://en.wikipedia.org/wiki/Category:Machine_learning_algorithms названия всех статей в категории Machine Learning Algorithms"
   ]
  },
  {
   "cell_type": "markdown",
   "metadata": {},
   "source": [
    "#### a) из статьи https://en.wikipedia.org/wiki/Bias-variance_tradeoff распарсите все заголовки верхнего уровня;"
   ]
  },
  {
   "cell_type": "markdown",
   "metadata": {},
   "source": [
    "[Перейти к ответу](#answ)"
   ]
  },
  {
   "cell_type": "code",
   "execution_count": 2,
   "metadata": {},
   "outputs": [
    {
     "name": "stderr",
     "output_type": "stream",
     "text": [
      "C:\\Users\\GrigoryDU\\AppData\\Local\\Continuum\\anaconda3\\lib\\site-packages\\urllib3\\connectionpool.py:847: InsecureRequestWarning: Unverified HTTPS request is being made. Adding certificate verification is strongly advised. See: https://urllib3.readthedocs.io/en/latest/advanced-usage.html#ssl-warnings\n",
      "  InsecureRequestWarning)\n"
     ]
    }
   ],
   "source": [
    "# verify = False -- чтобы ssl-протокол не создавал проблем\n",
    "req = requests.get('https://en.wikipedia.org/wiki/Bias-variance_tradeoff', verify=False)"
   ]
  },
  {
   "cell_type": "code",
   "execution_count": 3,
   "metadata": {},
   "outputs": [],
   "source": [
    "parser = bs4.BeautifulSoup(req.text, 'lxml')"
   ]
  },
  {
   "cell_type": "code",
   "execution_count": 4,
   "metadata": {},
   "outputs": [
    {
     "data": {
      "text/plain": [
       "[<h1 class=\"firstHeading\" id=\"firstHeading\" lang=\"en\">Bias–variance tradeoff</h1>]"
      ]
     },
     "execution_count": 4,
     "metadata": {},
     "output_type": "execute_result"
    }
   ],
   "source": [
    "parser.findAll(\"h1\")"
   ]
  },
  {
   "cell_type": "code",
   "execution_count": 5,
   "metadata": {},
   "outputs": [
    {
     "data": {
      "text/plain": [
       "[<h2 id=\"mw-toc-heading\">Contents</h2>,\n",
       " <h2><span class=\"mw-headline\" id=\"Motivation\">Motivation</span><span class=\"mw-editsection\"><span class=\"mw-editsection-bracket\">[</span><a href=\"/w/index.php?title=Bias%E2%80%93variance_tradeoff&amp;action=edit&amp;section=1\" title=\"Edit section: Motivation\">edit</a><span class=\"mw-editsection-bracket\">]</span></span></h2>,\n",
       " <h2><span id=\"Bias.E2.80.93variance_decomposition_of_squared_error\"></span><span class=\"mw-headline\" id=\"Bias–variance_decomposition_of_squared_error\">Bias–variance decomposition of squared error</span><span class=\"mw-editsection\"><span class=\"mw-editsection-bracket\">[</span><a href=\"/w/index.php?title=Bias%E2%80%93variance_tradeoff&amp;action=edit&amp;section=2\" title=\"Edit section: Bias–variance decomposition of squared error\">edit</a><span class=\"mw-editsection-bracket\">]</span></span></h2>,\n",
       " <h2><span class=\"mw-headline\" id=\"Application_to_regression\">Application to regression</span><span class=\"mw-editsection\"><span class=\"mw-editsection-bracket\">[</span><a href=\"/w/index.php?title=Bias%E2%80%93variance_tradeoff&amp;action=edit&amp;section=4\" title=\"Edit section: Application to regression\">edit</a><span class=\"mw-editsection-bracket\">]</span></span></h2>,\n",
       " <h2><span class=\"mw-headline\" id=\"Application_to_classification\">Application to classification</span><span class=\"mw-editsection\"><span class=\"mw-editsection-bracket\">[</span><a href=\"/w/index.php?title=Bias%E2%80%93variance_tradeoff&amp;action=edit&amp;section=5\" title=\"Edit section: Application to classification\">edit</a><span class=\"mw-editsection-bracket\">]</span></span></h2>,\n",
       " <h2><span class=\"mw-headline\" id=\"Approaches\">Approaches</span><span class=\"mw-editsection\"><span class=\"mw-editsection-bracket\">[</span><a href=\"/w/index.php?title=Bias%E2%80%93variance_tradeoff&amp;action=edit&amp;section=6\" title=\"Edit section: Approaches\">edit</a><span class=\"mw-editsection-bracket\">]</span></span></h2>,\n",
       " <h2><span class=\"mw-headline\" id=\"Application_to_human_learning\">Application to human learning</span><span class=\"mw-editsection\"><span class=\"mw-editsection-bracket\">[</span><a href=\"/w/index.php?title=Bias%E2%80%93variance_tradeoff&amp;action=edit&amp;section=8\" title=\"Edit section: Application to human learning\">edit</a><span class=\"mw-editsection-bracket\">]</span></span></h2>,\n",
       " <h2><span class=\"mw-headline\" id=\"See_also\">See also</span><span class=\"mw-editsection\"><span class=\"mw-editsection-bracket\">[</span><a href=\"/w/index.php?title=Bias%E2%80%93variance_tradeoff&amp;action=edit&amp;section=9\" title=\"Edit section: See also\">edit</a><span class=\"mw-editsection-bracket\">]</span></span></h2>,\n",
       " <h2><span class=\"mw-headline\" id=\"References\">References</span><span class=\"mw-editsection\"><span class=\"mw-editsection-bracket\">[</span><a href=\"/w/index.php?title=Bias%E2%80%93variance_tradeoff&amp;action=edit&amp;section=10\" title=\"Edit section: References\">edit</a><span class=\"mw-editsection-bracket\">]</span></span></h2>,\n",
       " <h2>Navigation menu</h2>]"
      ]
     },
     "execution_count": 5,
     "metadata": {},
     "output_type": "execute_result"
    }
   ],
   "source": [
    "parser.findAll(\"h2\")"
   ]
  },
  {
   "cell_type": "markdown",
   "metadata": {},
   "source": [
    "Нетрудно догадаться что на м нужен тэг \"span\" и класс \"mw-headline\""
   ]
  },
  {
   "cell_type": "code",
   "execution_count": 6,
   "metadata": {},
   "outputs": [
    {
     "name": "stdout",
     "output_type": "stream",
     "text": [
      "Motivation\n",
      "Bias–variance decomposition of squared error\n",
      "Derivation\n",
      "Application to regression\n",
      "Application to classification\n",
      "Approaches\n",
      "k-nearest neighbors\n",
      "Application to human learning\n",
      "See also\n",
      "References\n"
     ]
    }
   ],
   "source": [
    "arr_1 = []\n",
    "for i in parser.findAll(\"span\",attrs={\"class\":\"mw-headline\"}):\n",
    "    arr_1.append(i.text)\n",
    "    print(i.text)"
   ]
  },
  {
   "cell_type": "markdown",
   "metadata": {},
   "source": [
    "#### б) со страницы https://en.wikipedia.org/wiki/Category:Machine_learning_algorithms названия всех статей в категории Machine Learning Algorithms"
   ]
  },
  {
   "cell_type": "code",
   "execution_count": 7,
   "metadata": {},
   "outputs": [
    {
     "name": "stderr",
     "output_type": "stream",
     "text": [
      "C:\\Users\\GrigoryDU\\AppData\\Local\\Continuum\\anaconda3\\lib\\site-packages\\urllib3\\connectionpool.py:847: InsecureRequestWarning: Unverified HTTPS request is being made. Adding certificate verification is strongly advised. See: https://urllib3.readthedocs.io/en/latest/advanced-usage.html#ssl-warnings\n",
      "  InsecureRequestWarning)\n"
     ]
    }
   ],
   "source": [
    "# verify = False -- чтобы ssl-протокол не создавал проблем\n",
    "req2 = requests.get('https://en.wikipedia.org/wiki/Category:Machine_learning_algorithms', verify=False)"
   ]
  },
  {
   "cell_type": "code",
   "execution_count": 8,
   "metadata": {},
   "outputs": [],
   "source": [
    "parser2 = bs4.BeautifulSoup(req2.text, 'lxml')"
   ]
  },
  {
   "cell_type": "code",
   "execution_count": 9,
   "metadata": {},
   "outputs": [
    {
     "data": {
      "text/plain": [
       "<!DOCTYPE html>\n",
       "<html class=\"client-nojs\" dir=\"ltr\" lang=\"en\">\n",
       "<head>\n",
       "<meta charset=\"utf-8\"/>\n",
       "<title>Category:Machine learning algorithms - Wikipedia</title>\n",
       "<script>document.documentElement.className=\"client-js\";RLCONF={\"wgBreakFrames\":!1,\"wgSeparatorTransformTable\":[\"\",\"\"],\"wgDigitTransformTable\":[\"\",\"\"],\"wgDefaultDateFormat\":\"dmy\",\"wgMonthNames\":[\"\",\"January\",\"February\",\"March\",\"April\",\"May\",\"June\",\"July\",\"August\",\"September\",\"October\",\"November\",\"December\"],\"wgMonthNamesShort\":[\"\",\"Jan\",\"Feb\",\"Mar\",\"Apr\",\"May\",\"Jun\",\"Jul\",\"Aug\",\"Sep\",\"Oct\",\"Nov\",\"Dec\"],\"wgRequestId\":\"XmEBmQpAMNcAAvLsQsIAAABH\",\"wgCSPNonce\":!1,\"wgCanonicalNamespace\":\"Category\",\"wgCanonicalSpecialPageName\":!1,\"wgNamespaceNumber\":14,\"wgPageName\":\"Category:Machine_learning_algorithms\",\"wgTitle\":\"Machine learning algorithms\",\"wgCurRevisionId\":902071604,\"wgRevisionId\":902071604,\"wgArticleId\":33547228,\"wgIsArticle\":!0,\"wgIsRedirect\":!1,\"wgAction\":\"view\",\"wgUserName\":null,\"wgUserGroups\":[\"*\"],\"wgCategories\":[\"Commons category link is on Wikidata\",\"Machine learning\",\"Algorithms\"],\"wgPageContentLanguage\":\"en\",\"wgPageContentModel\":\"wikitext\",\"wgRelevantPageName\":\n",
       "\"Category:Machine_learning_algorithms\",\"wgRelevantArticleId\":33547228,\"wgIsProbablyEditable\":!0,\"wgRelevantPageIsProbablyEditable\":!0,\"wgRestrictionEdit\":[],\"wgRestrictionMove\":[],\"wgMediaViewerOnClick\":!0,\"wgMediaViewerEnabledByDefault\":!0,\"wgPopupsReferencePreviews\":!1,\"wgPopupsConflictsWithNavPopupGadget\":!1,\"wgVisualEditor\":{\"pageLanguageCode\":\"en\",\"pageLanguageDir\":\"ltr\",\"pageVariantFallbacks\":\"en\"},\"wgMFDisplayWikibaseDescriptions\":{\"search\":!0,\"nearby\":!0,\"watchlist\":!0,\"tagline\":!1},\"wgWMESchemaEditAttemptStepOversample\":!1,\"wgULSCurrentAutonym\":\"English\",\"wgNoticeProject\":\"wikipedia\",\"wgWikibaseItemId\":\"Q8592571\",\"wgCentralAuthMobileDomain\":!1,\"wgEditSubmitButtonLabelPublish\":!0};RLSTATE={\"ext.globalCssJs.user.styles\":\"ready\",\"site.styles\":\"ready\",\"noscript\":\"ready\",\"user.styles\":\"ready\",\"ext.globalCssJs.user\":\"ready\",\"user\":\"ready\",\"user.options\":\"ready\",\"user.tokens\":\"loading\",\"mediawiki.action.view.categoryPage.styles\":\"ready\",\n",
       "\"ext.categoryTree.styles\":\"ready\",\"mediawiki.helplink\":\"ready\",\"mediawiki.legacy.shared\":\"ready\",\"mediawiki.legacy.commonPrint\":\"ready\",\"skins.vector.styles\":\"ready\",\"wikibase.client.init\":\"ready\",\"ext.visualEditor.desktopArticleTarget.noscript\":\"ready\",\"ext.uls.interlanguage\":\"ready\",\"ext.wikimediaBadges\":\"ready\",\"ext.tmh.thumbnail.styles\":\"ready\"};RLPAGEMODULES=[\"ext.categoryTree\",\"site\",\"mediawiki.page.startup\",\"skins.vector.js\",\"mediawiki.page.ready\",\"ext.gadget.ReferenceTooltips\",\"ext.gadget.DRN-wizard\",\"ext.gadget.charinsert\",\"ext.gadget.refToolbar\",\"ext.gadget.extra-toolbar-buttons\",\"ext.gadget.switcher\",\"ext.centralauth.centralautologin\",\"mmv.head\",\"mmv.bootstrap.autostart\",\"ext.popups\",\"ext.visualEditor.desktopArticleTarget.init\",\"ext.visualEditor.targetLoader\",\"ext.eventLogging\",\"ext.wikimediaEvents\",\"ext.navigationTiming\",\"ext.uls.compactlinks\",\"ext.uls.interface\",\"ext.cx.eventlogging.campaigns\",\"ext.centralNotice.geoIP\",\"ext.centralNotice.startUp\",\n",
       "\"mw.MediaWikiPlayer.loader\",\"mw.PopUpMediaTransform\"];</script>\n",
       "<script>(RLQ=window.RLQ||[]).push(function(){mw.loader.implement(\"user.tokens@tffin\",function($,jQuery,require,module){/*@nomin*/mw.user.tokens.set({\"patrolToken\":\"+\\\\\",\"watchToken\":\"+\\\\\",\"csrfToken\":\"+\\\\\"});\n",
       "});});</script>\n",
       "<link href=\"/w/load.php?lang=en&amp;modules=ext.categoryTree.styles%7Cext.tmh.thumbnail.styles%7Cext.uls.interlanguage%7Cext.visualEditor.desktopArticleTarget.noscript%7Cext.wikimediaBadges%7Cmediawiki.action.view.categoryPage.styles%7Cmediawiki.helplink%7Cmediawiki.legacy.commonPrint%2Cshared%7Cskins.vector.styles%7Cwikibase.client.init&amp;only=styles&amp;skin=vector\" rel=\"stylesheet\"/>\n",
       "<script async=\"\" src=\"/w/load.php?lang=en&amp;modules=startup&amp;only=scripts&amp;raw=1&amp;skin=vector\"></script>\n",
       "<meta content=\"\" name=\"ResourceLoaderDynamicStyles\"/>\n",
       "<link href=\"/w/load.php?lang=en&amp;modules=site.styles&amp;only=styles&amp;skin=vector\" rel=\"stylesheet\"/>\n",
       "<meta content=\"MediaWiki 1.35.0-wmf.21\" name=\"generator\"/>\n",
       "<meta content=\"origin\" name=\"referrer\"/>\n",
       "<meta content=\"origin-when-crossorigin\" name=\"referrer\"/>\n",
       "<meta content=\"origin-when-cross-origin\" name=\"referrer\"/>\n",
       "<link href=\"/w/index.php?title=Category:Machine_learning_algorithms&amp;action=edit\" rel=\"alternate\" title=\"Edit this page\" type=\"application/x-wiki\"/>\n",
       "<link href=\"/w/index.php?title=Category:Machine_learning_algorithms&amp;action=edit\" rel=\"edit\" title=\"Edit this page\"/>\n",
       "<link href=\"/static/apple-touch/wikipedia.png\" rel=\"apple-touch-icon\"/>\n",
       "<link href=\"/static/favicon/wikipedia.ico\" rel=\"shortcut icon\"/>\n",
       "<link href=\"/w/opensearch_desc.php\" rel=\"search\" title=\"Wikipedia (en)\" type=\"application/opensearchdescription+xml\"/>\n",
       "<link href=\"//en.wikipedia.org/w/api.php?action=rsd\" rel=\"EditURI\" type=\"application/rsd+xml\"/>\n",
       "<link href=\"//creativecommons.org/licenses/by-sa/3.0/\" rel=\"license\"/>\n",
       "<link href=\"/w/index.php?title=Special:RecentChanges&amp;feed=atom\" rel=\"alternate\" title=\"Wikipedia Atom feed\" type=\"application/atom+xml\"/>\n",
       "<link href=\"https://en.wikipedia.org/wiki/Category:Machine_learning_algorithms\" rel=\"canonical\"/>\n",
       "<link href=\"//login.wikimedia.org\" rel=\"dns-prefetch\"/>\n",
       "<link href=\"//meta.wikimedia.org\" rel=\"dns-prefetch\"/>\n",
       "<!--[if lt IE 9]><script src=\"/w/resources/lib/html5shiv/html5shiv.js\"></script><![endif]-->\n",
       "</head>\n",
       "<body class=\"mediawiki ltr sitedir-ltr mw-hide-empty-elt ns-14 ns-subject mw-editable page-Category_Machine_learning_algorithms rootpage-Category_Machine_learning_algorithms skin-vector action-view\">\n",
       "<div class=\"noprint\" id=\"mw-page-base\"></div>\n",
       "<div class=\"noprint\" id=\"mw-head-base\"></div>\n",
       "<div class=\"mw-body\" id=\"content\" role=\"main\">\n",
       "<a id=\"top\"></a>\n",
       "<div class=\"mw-body-content\" id=\"siteNotice\"><!-- CentralNotice --></div>\n",
       "<div class=\"mw-indicators mw-body-content\">\n",
       "<div class=\"mw-indicator\" id=\"mw-indicator-mw-helplink\"><a class=\"mw-helplink\" href=\"/wiki/Help:Category\" target=\"_blank\">Help</a></div>\n",
       "</div>\n",
       "<h1 class=\"firstHeading\" id=\"firstHeading\" lang=\"en\">Category:Machine learning algorithms</h1>\n",
       "<div class=\"mw-body-content\" id=\"bodyContent\">\n",
       "<div class=\"noprint\" id=\"siteSub\">From Wikipedia, the free encyclopedia</div>\n",
       "<div id=\"contentSub\"></div>\n",
       "<div id=\"jump-to-nav\"></div>\n",
       "<a class=\"mw-jump-link\" href=\"#mw-head\">Jump to navigation</a>\n",
       "<a class=\"mw-jump-link\" href=\"#p-search\">Jump to search</a>\n",
       "<div class=\"mw-content-ltr\" dir=\"ltr\" id=\"mw-content-text\" lang=\"en\"><div class=\"mw-parser-output\"><table class=\"mbox-small plainlinks sistersitebox\" role=\"presentation\" style=\"background-color:#f9f9f9;border:1px solid #aaa;color:#000\">\n",
       "<tbody><tr>\n",
       "<td class=\"mbox-image\"><img alt=\"\" class=\"noviewer\" data-file-height=\"1376\" data-file-width=\"1024\" decoding=\"async\" height=\"40\" src=\"//upload.wikimedia.org/wikipedia/en/thumb/4/4a/Commons-logo.svg/30px-Commons-logo.svg.png\" srcset=\"//upload.wikimedia.org/wikipedia/en/thumb/4/4a/Commons-logo.svg/45px-Commons-logo.svg.png 1.5x, //upload.wikimedia.org/wikipedia/en/thumb/4/4a/Commons-logo.svg/59px-Commons-logo.svg.png 2x\" width=\"30\"/></td>\n",
       "<td class=\"mbox-text plainlist\">Wikimedia Commons has media related to <i><b><a class=\"extiw\" href=\"https://commons.wikimedia.org/wiki/Category:Machine_learning_algorithms\" title=\"commons:Category:Machine learning algorithms\"><span style=\"\">Machine learning algorithms</span></a></b></i>.</td></tr>\n",
       "</tbody></table>\n",
       "<div class=\"hatnote navigation-not-searchable selfref\" role=\"note\">See also: the categories <a href=\"/wiki/Category:Data_mining\" title=\"Category:Data mining\">Data mining</a>, <a href=\"/wiki/Category:Classification_algorithms\" title=\"Category:Classification algorithms\">Classification algorithms</a>, and <a href=\"/wiki/Category:Decision_trees\" title=\"Category:Decision trees\">Decision trees</a>.</div>\n",
       "<!-- \n",
       "NewPP limit report\n",
       "Parsed by mw1240\n",
       "Cached time: 20200224170453\n",
       "Cache expiry: 2592000\n",
       "Dynamic content: false\n",
       "Complications: []\n",
       "CPU time usage: 0.064 seconds\n",
       "Real time usage: 0.104 seconds\n",
       "Preprocessor visited node count: 162/1000000\n",
       "Post‐expand include size: 3270/2097152 bytes\n",
       "Template argument size: 437/2097152 bytes\n",
       "Highest expansion depth: 11/40\n",
       "Expensive parser function count: 0/500\n",
       "Unstrip recursion depth: 0/20\n",
       "Unstrip post‐expand size: 0/5000000 bytes\n",
       "Number of Wikibase entities loaded: 0/400\n",
       "Lua time usage: 0.018/10.000 seconds\n",
       "Lua memory usage: 1.29 MB/50 MB\n",
       "-->\n",
       "<!--\n",
       "Transclusion expansion time report (%,ms,calls,template)\n",
       "100.00%   89.882      1 -total\n",
       " 76.22%   68.509      1 Template:Commons_category\n",
       " 34.08%   30.631      1 Template:Commons\n",
       " 31.12%   27.970      1 Template:Sister_project\n",
       " 23.87%   21.457      1 Template:Side_box\n",
       " 23.60%   21.215      1 Template:Cat_see_also\n",
       "  8.23%    7.401      1 Template:Replace\n",
       "  5.39%    4.845      1 Template:Category_see_also/Category_pair_check\n",
       "-->\n",
       "<!-- Saved in parser cache with key enwiki:pcache:idhash:33547228-0!canonical and timestamp 20200224170453 and revision id 902071604\n",
       " -->\n",
       "</div><div class=\"mw-category-generated\" dir=\"ltr\" lang=\"en\"><div id=\"mw-subcategories\">\n",
       "<h2>Subcategories</h2>\n",
       "<p>This category has only the following subcategory.\n",
       "</p><div class=\"mw-content-ltr\" dir=\"ltr\" lang=\"en\"><h3>G</h3>\n",
       "<ul><li><div class=\"CategoryTreeSection\"><div class=\"CategoryTreeItem\"><span class=\"CategoryTreeBullet\"><span class=\"CategoryTreeToggle\" data-ct-state=\"collapsed\" data-ct-title=\"Genetic_algorithms\">►</span> </span> <a href=\"/wiki/Category:Genetic_algorithms\" title=\"Category:Genetic algorithms\">Genetic algorithms</a>‎ <span dir=\"ltr\" title=\"Contains 2 subcategories, 43 pages, and 0 files\">(2 C, 43 P)</span></div><div class=\"CategoryTreeChildren\" style=\"display:none\"></div></div></li></ul></div>\n",
       "</div><div id=\"mw-pages\">\n",
       "<h2><span id=\"Pages_in_category\"></span>Pages in category \"Machine learning algorithms\"</h2>\n",
       "<p>The following 63 pages are in this category, out of  63 total. This list may not reflect recent changes (<a href=\"/wiki/Wikipedia:FAQ/Categorization#Why_might_a_category_list_not_be_up_to_date?\" title=\"Wikipedia:FAQ/Categorization\">learn more</a>).\n",
       "</p><div class=\"mw-content-ltr\" dir=\"ltr\" lang=\"en\"><div class=\"mw-category\"><div class=\"mw-category-group\"><h3>A</h3>\n",
       "<ul><li><span class=\"redirect-in-category\"><a class=\"mw-redirect\" href=\"/wiki/Adagrad\" title=\"Adagrad\">Adagrad</a></span></li>\n",
       "<li><a href=\"/wiki/Algorithms_of_Oppression\" title=\"Algorithms of Oppression\">Algorithms of Oppression</a></li>\n",
       "<li><a href=\"/wiki/Almeida%E2%80%93Pineda_recurrent_backpropagation\" title=\"Almeida–Pineda recurrent backpropagation\">Almeida–Pineda recurrent backpropagation</a></li></ul></div><div class=\"mw-category-group\"><h3>B</h3>\n",
       "<ul><li><a href=\"/wiki/Backpropagation\" title=\"Backpropagation\">Backpropagation</a></li>\n",
       "<li><a href=\"/wiki/Bioz\" title=\"Bioz\">Bioz</a></li>\n",
       "<li><a href=\"/wiki/Bootstrap_aggregating\" title=\"Bootstrap aggregating\">Bootstrap aggregating</a></li></ul></div><div class=\"mw-category-group\"><h3>C</h3>\n",
       "<ul><li><a href=\"/wiki/CN2_algorithm\" title=\"CN2 algorithm\">CN2 algorithm</a></li>\n",
       "<li><a href=\"/wiki/Constructing_skill_trees\" title=\"Constructing skill trees\">Constructing skill trees</a></li></ul></div><div class=\"mw-category-group\"><h3>D</h3>\n",
       "<ul><li><a href=\"/wiki/Deep_reinforcement_learning\" title=\"Deep reinforcement learning\">Deep reinforcement learning</a></li>\n",
       "<li><a href=\"/wiki/Dehaene%E2%80%93Changeux_model\" title=\"Dehaene–Changeux model\">Dehaene–Changeux model</a></li>\n",
       "<li><a href=\"/wiki/Diffusion_map\" title=\"Diffusion map\">Diffusion map</a></li>\n",
       "<li><a href=\"/wiki/Dominance-based_rough_set_approach\" title=\"Dominance-based rough set approach\">Dominance-based rough set approach</a></li>\n",
       "<li><a href=\"/wiki/Dynamic_time_warping\" title=\"Dynamic time warping\">Dynamic time warping</a></li></ul></div><div class=\"mw-category-group\"><h3>E</h3>\n",
       "<ul><li><a href=\"/wiki/Elastic_net_regularization\" title=\"Elastic net regularization\">Elastic net regularization</a></li>\n",
       "<li><a href=\"/wiki/Error-driven_learning\" title=\"Error-driven learning\">Error-driven learning</a></li>\n",
       "<li><a href=\"/wiki/Evolutionary_multimodal_optimization\" title=\"Evolutionary multimodal optimization\">Evolutionary multimodal optimization</a></li>\n",
       "<li><a href=\"/wiki/Expectation%E2%80%93maximization_algorithm\" title=\"Expectation–maximization algorithm\">Expectation–maximization algorithm</a></li>\n",
       "<li><a href=\"/wiki/Extremal_Ensemble_Learning\" title=\"Extremal Ensemble Learning\">Extremal Ensemble Learning</a></li></ul></div><div class=\"mw-category-group\"><h3>F</h3>\n",
       "<ul><li><a href=\"/wiki/FastICA\" title=\"FastICA\">FastICA</a></li>\n",
       "<li><a href=\"/wiki/Forward%E2%80%93backward_algorithm\" title=\"Forward–backward algorithm\">Forward–backward algorithm</a></li></ul></div><div class=\"mw-category-group\"><h3>G</h3>\n",
       "<ul><li><a href=\"/wiki/GeneRec\" title=\"GeneRec\">GeneRec</a></li>\n",
       "<li><a href=\"/wiki/Genetic_Algorithm_for_Rule_Set_Production\" title=\"Genetic Algorithm for Rule Set Production\">Genetic Algorithm for Rule Set Production</a></li>\n",
       "<li><a href=\"/wiki/Growing_self-organizing_map\" title=\"Growing self-organizing map\">Growing self-organizing map</a></li></ul></div><div class=\"mw-category-group\"><h3>H</h3>\n",
       "<ul><li><a href=\"/wiki/Hyper_basis_function_network\" title=\"Hyper basis function network\">Hyper basis function network</a></li></ul></div><div class=\"mw-category-group\"><h3>I</h3>\n",
       "<ul><li><a href=\"/wiki/IDistance\" title=\"IDistance\">IDistance</a></li></ul></div><div class=\"mw-category-group\"><h3>K</h3>\n",
       "<ul><li><a href=\"/wiki/K-nearest_neighbors_algorithm\" title=\"K-nearest neighbors algorithm\">K-nearest neighbors algorithm</a></li>\n",
       "<li><a href=\"/wiki/Kernel_methods_for_vector_output\" title=\"Kernel methods for vector output\">Kernel methods for vector output</a></li>\n",
       "<li><a href=\"/wiki/Kernel_principal_component_analysis\" title=\"Kernel principal component analysis\">Kernel principal component analysis</a></li></ul></div><div class=\"mw-category-group\"><h3>L</h3>\n",
       "<ul><li><a href=\"/wiki/Leabra\" title=\"Leabra\">Leabra</a></li>\n",
       "<li><a href=\"/wiki/Linde%E2%80%93Buzo%E2%80%93Gray_algorithm\" title=\"Linde–Buzo–Gray algorithm\">Linde–Buzo–Gray algorithm</a></li>\n",
       "<li><a href=\"/wiki/Local_outlier_factor\" title=\"Local outlier factor\">Local outlier factor</a></li>\n",
       "<li><a href=\"/wiki/Logic_learning_machine\" title=\"Logic learning machine\">Logic learning machine</a></li>\n",
       "<li><a href=\"/wiki/LogitBoost\" title=\"LogitBoost\">LogitBoost</a></li>\n",
       "<li><a href=\"/wiki/Loss_functions_for_classification\" title=\"Loss functions for classification\">Loss functions for classification</a></li></ul></div><div class=\"mw-category-group\"><h3>M</h3>\n",
       "<ul><li><a href=\"/wiki/Manifold_alignment\" title=\"Manifold alignment\">Manifold alignment</a></li>\n",
       "<li><a href=\"/wiki/Minimum_redundancy_feature_selection\" title=\"Minimum redundancy feature selection\">Minimum redundancy feature selection</a></li>\n",
       "<li><a href=\"/wiki/Mixture_of_experts\" title=\"Mixture of experts\">Mixture of experts</a></li>\n",
       "<li><a href=\"/wiki/Multiple_kernel_learning\" title=\"Multiple kernel learning\">Multiple kernel learning</a></li></ul></div><div class=\"mw-category-group\"><h3>N</h3>\n",
       "<ul><li><a href=\"/wiki/Non-negative_matrix_factorization\" title=\"Non-negative matrix factorization\">Non-negative matrix factorization</a></li></ul></div><div class=\"mw-category-group\"><h3>O</h3>\n",
       "<ul><li><a href=\"/wiki/Online_machine_learning\" title=\"Online machine learning\">Online machine learning</a></li>\n",
       "<li><a href=\"/wiki/Out-of-bag_error\" title=\"Out-of-bag error\">Out-of-bag error</a></li></ul></div><div class=\"mw-category-group\"><h3>P</h3>\n",
       "<ul><li><a href=\"/wiki/Prefrontal_cortex_basal_ganglia_working_memory\" title=\"Prefrontal cortex basal ganglia working memory\">Prefrontal cortex basal ganglia working memory</a></li>\n",
       "<li><a href=\"/wiki/Prototype_methods\" title=\"Prototype methods\">Prototype methods</a></li>\n",
       "<li><a href=\"/wiki/PVLV\" title=\"PVLV\">PVLV</a></li></ul></div><div class=\"mw-category-group\"><h3>Q</h3>\n",
       "<ul><li><a href=\"/wiki/Q-learning\" title=\"Q-learning\">Q-learning</a></li>\n",
       "<li><a href=\"/wiki/Quadratic_unconstrained_binary_optimization\" title=\"Quadratic unconstrained binary optimization\">Quadratic unconstrained binary optimization</a></li>\n",
       "<li><a href=\"/wiki/Query-level_feature\" title=\"Query-level feature\">Query-level feature</a></li>\n",
       "<li><a href=\"/wiki/Quickprop\" title=\"Quickprop\">Quickprop</a></li></ul></div><div class=\"mw-category-group\"><h3>R</h3>\n",
       "<ul><li><a href=\"/wiki/Radial_basis_function_network\" title=\"Radial basis function network\">Radial basis function network</a></li>\n",
       "<li><a href=\"/wiki/Randomized_weighted_majority_algorithm\" title=\"Randomized weighted majority algorithm\">Randomized weighted majority algorithm</a></li>\n",
       "<li><a href=\"/wiki/Repeated_incremental_pruning_to_produce_error_reduction_(RIPPER)\" title=\"Repeated incremental pruning to produce error reduction (RIPPER)\">Repeated incremental pruning to produce error reduction (RIPPER)</a></li>\n",
       "<li><a href=\"/wiki/Rprop\" title=\"Rprop\">Rprop</a></li>\n",
       "<li><a href=\"/wiki/Rule-based_machine_learning\" title=\"Rule-based machine learning\">Rule-based machine learning</a></li></ul></div><div class=\"mw-category-group\"><h3>S</h3>\n",
       "<ul><li><a href=\"/wiki/Skill_chaining\" title=\"Skill chaining\">Skill chaining</a></li>\n",
       "<li><a href=\"/wiki/Sparse_PCA\" title=\"Sparse PCA\">Sparse PCA</a></li>\n",
       "<li><a href=\"/wiki/State%E2%80%93action%E2%80%93reward%E2%80%93state%E2%80%93action\" title=\"State–action–reward–state–action\">State–action–reward–state–action</a></li>\n",
       "<li><a href=\"/wiki/User:Tsbertalan/Reinforcement_Learning\" title=\"User:Tsbertalan/Reinforcement Learning\">User:Tsbertalan/Reinforcement Learning</a></li>\n",
       "<li><a href=\"/wiki/Stochastic_gradient_descent\" title=\"Stochastic gradient descent\">Stochastic gradient descent</a></li>\n",
       "<li><a href=\"/wiki/Structured_kNN\" title=\"Structured kNN\">Structured kNN</a></li></ul></div><div class=\"mw-category-group\"><h3>T</h3>\n",
       "<ul><li><a href=\"/wiki/T-distributed_stochastic_neighbor_embedding\" title=\"T-distributed stochastic neighbor embedding\">T-distributed stochastic neighbor embedding</a></li>\n",
       "<li><a href=\"/wiki/Triplet_loss\" title=\"Triplet loss\">Triplet loss</a></li></ul></div><div class=\"mw-category-group\"><h3>W</h3>\n",
       "<ul><li><a href=\"/wiki/Wake-sleep_algorithm\" title=\"Wake-sleep algorithm\">Wake-sleep algorithm</a></li>\n",
       "<li><a href=\"/wiki/Weighted_majority_algorithm_(machine_learning)\" title=\"Weighted majority algorithm (machine learning)\">Weighted majority algorithm (machine learning)</a></li></ul></div></div></div>\n",
       "</div></div><noscript><img alt=\"\" height=\"1\" src=\"//en.wikipedia.org/wiki/Special:CentralAutoLogin/start?type=1x1\" style=\"border: none; position: absolute;\" title=\"\" width=\"1\"/></noscript></div>\n",
       "<div class=\"printfooter\">Retrieved from \"<a dir=\"ltr\" href=\"https://en.wikipedia.org/w/index.php?title=Category:Machine_learning_algorithms&amp;oldid=902071604\">https://en.wikipedia.org/w/index.php?title=Category:Machine_learning_algorithms&amp;oldid=902071604</a>\"</div>\n",
       "<div class=\"catlinks\" data-mw=\"interface\" id=\"catlinks\"><div class=\"mw-normal-catlinks\" id=\"mw-normal-catlinks\"><a href=\"/wiki/Help:Category\" title=\"Help:Category\">Categories</a>: <ul><li><a href=\"/wiki/Category:Machine_learning\" title=\"Category:Machine learning\">Machine learning</a></li><li><a href=\"/wiki/Category:Algorithms\" title=\"Category:Algorithms\">Algorithms</a></li></ul></div><div class=\"mw-hidden-catlinks mw-hidden-cats-ns-shown\" id=\"mw-hidden-catlinks\">Hidden categories: <ul><li><a href=\"/wiki/Category:Commons_category_link_is_on_Wikidata\" title=\"Category:Commons category link is on Wikidata\">Commons category link is on Wikidata</a></li></ul></div></div>\n",
       "<div class=\"visualClear\"></div>\n",
       "</div>\n",
       "</div>\n",
       "<div id=\"mw-data-after-content\">\n",
       "<div class=\"read-more-container\"></div>\n",
       "</div>\n",
       "<div id=\"mw-navigation\">\n",
       "<h2>Navigation menu</h2>\n",
       "<div id=\"mw-head\">\n",
       "<div aria-labelledby=\"p-personal-label\" class=\"\" id=\"p-personal\" role=\"navigation\">\n",
       "<h3 id=\"p-personal-label\">Personal tools</h3>\n",
       "<ul>\n",
       "<li id=\"pt-anonuserpage\">Not logged in</li>\n",
       "<li id=\"pt-anontalk\"><a accesskey=\"n\" href=\"/wiki/Special:MyTalk\" title=\"Discussion about edits from this IP address [n]\">Talk</a></li><li id=\"pt-anoncontribs\"><a accesskey=\"y\" href=\"/wiki/Special:MyContributions\" title=\"A list of edits made from this IP address [y]\">Contributions</a></li><li id=\"pt-createaccount\"><a href=\"/w/index.php?title=Special:CreateAccount&amp;returnto=Category%3AMachine+learning+algorithms\" title=\"You are encouraged to create an account and log in; however, it is not mandatory\">Create account</a></li><li id=\"pt-login\"><a accesskey=\"o\" href=\"/w/index.php?title=Special:UserLogin&amp;returnto=Category%3AMachine+learning+algorithms\" title=\"You're encouraged to log in; however, it's not mandatory. [o]\">Log in</a></li>\n",
       "</ul>\n",
       "</div>\n",
       "<div id=\"left-navigation\">\n",
       "<div aria-labelledby=\"p-namespaces-label\" class=\"vectorTabs\" id=\"p-namespaces\" role=\"navigation\">\n",
       "<h3 id=\"p-namespaces-label\">Namespaces</h3>\n",
       "<ul>\n",
       "<li class=\"selected\" id=\"ca-nstab-category\"><a accesskey=\"c\" href=\"/wiki/Category:Machine_learning_algorithms\" title=\"View the category page [c]\">Category</a></li><li class=\"new\" id=\"ca-talk\"><a accesskey=\"t\" href=\"/w/index.php?title=Category_talk:Machine_learning_algorithms&amp;action=edit&amp;redlink=1\" rel=\"discussion\" title=\"Discussion about the content page (page does not exist) [t]\">Talk</a></li>\n",
       "</ul>\n",
       "</div>\n",
       "<div aria-labelledby=\"p-variants-label\" class=\"vectorMenu emptyPortlet\" id=\"p-variants\" role=\"navigation\">\n",
       "<input aria-labelledby=\"p-variants-label\" class=\"vectorMenuCheckbox\" type=\"checkbox\"/>\n",
       "<h3 id=\"p-variants-label\">\n",
       "<span>Variants</span>\n",
       "</h3>\n",
       "<ul class=\"menu\">\n",
       "</ul>\n",
       "</div>\n",
       "</div>\n",
       "<div id=\"right-navigation\">\n",
       "<div aria-labelledby=\"p-views-label\" class=\"vectorTabs\" id=\"p-views\" role=\"navigation\">\n",
       "<h3 id=\"p-views-label\">Views</h3>\n",
       "<ul>\n",
       "<li class=\"collapsible selected\" id=\"ca-view\"><a href=\"/wiki/Category:Machine_learning_algorithms\">Read</a></li><li class=\"collapsible\" id=\"ca-edit\"><a accesskey=\"e\" href=\"/w/index.php?title=Category:Machine_learning_algorithms&amp;action=edit\" title=\"Edit this page [e]\">Edit</a></li><li class=\"collapsible\" id=\"ca-history\"><a accesskey=\"h\" href=\"/w/index.php?title=Category:Machine_learning_algorithms&amp;action=history\" title=\"Past revisions of this page [h]\">View history</a></li>\n",
       "</ul>\n",
       "</div>\n",
       "<div aria-labelledby=\"p-cactions-label\" class=\"vectorMenu emptyPortlet\" id=\"p-cactions\" role=\"navigation\">\n",
       "<input aria-labelledby=\"p-cactions-label\" class=\"vectorMenuCheckbox\" type=\"checkbox\"/>\n",
       "<h3 id=\"p-cactions-label\">\n",
       "<span>More</span>\n",
       "</h3>\n",
       "<ul class=\"menu\">\n",
       "</ul>\n",
       "</div>\n",
       "<div id=\"p-search\" role=\"search\">\n",
       "<h3>\n",
       "<label for=\"searchInput\">Search</label>\n",
       "</h3>\n",
       "<form action=\"/w/index.php\" id=\"searchform\">\n",
       "<div id=\"simpleSearch\">\n",
       "<input accesskey=\"f\" id=\"searchInput\" name=\"search\" placeholder=\"Search Wikipedia\" title=\"Search Wikipedia [f]\" type=\"search\"/>\n",
       "<input name=\"title\" type=\"hidden\" value=\"Special:Search\"/>\n",
       "<input class=\"searchButton mw-fallbackSearchButton\" id=\"mw-searchButton\" name=\"fulltext\" title=\"Search Wikipedia for this text\" type=\"submit\" value=\"Search\"/>\n",
       "<input class=\"searchButton\" id=\"searchButton\" name=\"go\" title=\"Go to a page with this exact name if it exists\" type=\"submit\" value=\"Go\"/>\n",
       "</div>\n",
       "</form>\n",
       "</div>\n",
       "</div>\n",
       "</div>\n",
       "<div id=\"mw-panel\">\n",
       "<div id=\"p-logo\" role=\"banner\">\n",
       "<a class=\"mw-wiki-logo\" href=\"/wiki/Main_Page\" title=\"Visit the main page\"></a>\n",
       "</div>\n",
       "<div aria-labelledby=\"p-navigation-label\" class=\"portal\" id=\"p-navigation\" role=\"navigation\">\n",
       "<h3 id=\"p-navigation-label\">\n",
       "\t\tNavigation\n",
       "\t</h3>\n",
       "<div class=\"body\">\n",
       "<ul><li id=\"n-mainpage-description\"><a accesskey=\"z\" href=\"/wiki/Main_Page\" title=\"Visit the main page [z]\">Main page</a></li><li id=\"n-contents\"><a href=\"/wiki/Wikipedia:Contents\" title=\"Guides to browsing Wikipedia\">Contents</a></li><li id=\"n-featuredcontent\"><a href=\"/wiki/Wikipedia:Featured_content\" title=\"Featured content – the best of Wikipedia\">Featured content</a></li><li id=\"n-currentevents\"><a href=\"/wiki/Portal:Current_events\" title=\"Find background information on current events\">Current events</a></li><li id=\"n-randompage\"><a accesskey=\"x\" href=\"/wiki/Special:Random\" title=\"Load a random article [x]\">Random article</a></li><li id=\"n-sitesupport\"><a href=\"https://donate.wikimedia.org/wiki/Special:FundraiserRedirector?utm_source=donate&amp;utm_medium=sidebar&amp;utm_campaign=C13_en.wikipedia.org&amp;uselang=en\" title=\"Support us\">Donate to Wikipedia</a></li><li id=\"n-shoplink\"><a href=\"//shop.wikimedia.org\" title=\"Visit the Wikipedia store\">Wikipedia store</a></li></ul>\n",
       "</div>\n",
       "</div>\n",
       "<div aria-labelledby=\"p-interaction-label\" class=\"portal\" id=\"p-interaction\" role=\"navigation\">\n",
       "<h3 id=\"p-interaction-label\">\n",
       "\t\tInteraction\n",
       "\t</h3>\n",
       "<div class=\"body\">\n",
       "<ul><li id=\"n-help\"><a href=\"/wiki/Help:Contents\" title=\"Guidance on how to use and edit Wikipedia\">Help</a></li><li id=\"n-aboutsite\"><a href=\"/wiki/Wikipedia:About\" title=\"Find out about Wikipedia\">About Wikipedia</a></li><li id=\"n-portal\"><a href=\"/wiki/Wikipedia:Community_portal\" title=\"About the project, what you can do, where to find things\">Community portal</a></li><li id=\"n-recentchanges\"><a accesskey=\"r\" href=\"/wiki/Special:RecentChanges\" title=\"A list of recent changes in the wiki [r]\">Recent changes</a></li><li id=\"n-contactpage\"><a href=\"//en.wikipedia.org/wiki/Wikipedia:Contact_us\" title=\"How to contact Wikipedia\">Contact page</a></li></ul>\n",
       "</div>\n",
       "</div>\n",
       "<div aria-labelledby=\"p-tb-label\" class=\"portal\" id=\"p-tb\" role=\"navigation\">\n",
       "<h3 id=\"p-tb-label\">\n",
       "\t\tTools\n",
       "\t</h3>\n",
       "<div class=\"body\">\n",
       "<ul><li id=\"t-whatlinkshere\"><a accesskey=\"j\" href=\"/wiki/Special:WhatLinksHere/Category:Machine_learning_algorithms\" title=\"List of all English Wikipedia pages containing links to this page [j]\">What links here</a></li><li id=\"t-recentchangeslinked\"><a accesskey=\"k\" href=\"/wiki/Special:RecentChangesLinked/Category:Machine_learning_algorithms\" rel=\"nofollow\" title=\"Recent changes in pages linked from this page [k]\">Related changes</a></li><li id=\"t-upload\"><a accesskey=\"u\" href=\"/wiki/Wikipedia:File_Upload_Wizard\" title=\"Upload files [u]\">Upload file</a></li><li id=\"t-specialpages\"><a accesskey=\"q\" href=\"/wiki/Special:SpecialPages\" title=\"A list of all special pages [q]\">Special pages</a></li><li id=\"t-permalink\"><a href=\"/w/index.php?title=Category:Machine_learning_algorithms&amp;oldid=902071604\" title=\"Permanent link to this revision of the page\">Permanent link</a></li><li id=\"t-info\"><a href=\"/w/index.php?title=Category:Machine_learning_algorithms&amp;action=info\" title=\"More information about this page\">Page information</a></li><li id=\"t-wikibase\"><a accesskey=\"g\" href=\"https://www.wikidata.org/wiki/Special:EntityPage/Q8592571\" title=\"Link to connected data repository item [g]\">Wikidata item</a></li></ul>\n",
       "</div>\n",
       "</div>\n",
       "<div aria-labelledby=\"p-wikibase-otherprojects-label\" class=\"portal\" id=\"p-wikibase-otherprojects\" role=\"navigation\">\n",
       "<h3 id=\"p-wikibase-otherprojects-label\">\n",
       "\t\tIn other projects\n",
       "\t</h3>\n",
       "<div class=\"body\">\n",
       "<ul><li class=\"wb-otherproject-link wb-otherproject-commons\"><a href=\"https://commons.wikimedia.org/wiki/Category:Machine_learning_algorithms\" hreflang=\"en\">Wikimedia Commons</a></li></ul>\n",
       "</div>\n",
       "</div>\n",
       "<div aria-labelledby=\"p-coll-print_export-label\" class=\"portal\" id=\"p-coll-print_export\" role=\"navigation\">\n",
       "<h3 id=\"p-coll-print_export-label\">\n",
       "\t\tPrint/export\n",
       "\t</h3>\n",
       "<div class=\"body\">\n",
       "<ul><li id=\"coll-create_a_book\"><a href=\"/w/index.php?title=Special:Book&amp;bookcmd=book_creator&amp;referer=Category%3AMachine+learning+algorithms\">Create a book</a></li><li id=\"coll-download-as-rl\"><a href=\"/w/index.php?title=Special:ElectronPdf&amp;page=Category%3AMachine+learning+algorithms&amp;action=show-download-screen\">Download as PDF</a></li><li id=\"t-print\"><a accesskey=\"p\" href=\"/w/index.php?title=Category:Machine_learning_algorithms&amp;printable=yes\" title=\"Printable version of this page [p]\">Printable version</a></li></ul>\n",
       "</div>\n",
       "</div>\n",
       "<div aria-labelledby=\"p-lang-label\" class=\"portal\" id=\"p-lang\" role=\"navigation\">\n",
       "<h3 id=\"p-lang-label\">\n",
       "\t\tLanguages\n",
       "\t</h3>\n",
       "<div class=\"body\">\n",
       "<ul><li class=\"interlanguage-link interwiki-cs\"><a class=\"interlanguage-link-target\" href=\"https://cs.wikipedia.org/wiki/Kategorie:Algoritmy_strojov%C3%A9ho_u%C4%8Den%C3%AD\" hreflang=\"cs\" lang=\"cs\" title=\"Kategorie:Algoritmy strojového učení – Czech\">Čeština</a></li><li class=\"interlanguage-link interwiki-fa\"><a class=\"interlanguage-link-target\" href=\"https://fa.wikipedia.org/wiki/%D8%B1%D8%AF%D9%87:%D8%A7%D9%84%DA%AF%D9%88%D8%B1%DB%8C%D8%AA%D9%85%E2%80%8C%D9%87%D8%A7%DB%8C_%DB%8C%D8%A7%D8%AF%DA%AF%DB%8C%D8%B1%DB%8C_%D9%85%D8%A7%D8%B4%DB%8C%D9%86%DB%8C\" hreflang=\"fa\" lang=\"fa\" title=\"رده:الگوریتم‌های یادگیری ماشینی – Persian\">فارسی</a></li><li class=\"interlanguage-link interwiki-ko\"><a class=\"interlanguage-link-target\" href=\"https://ko.wikipedia.org/wiki/%EB%B6%84%EB%A5%98:%EA%B8%B0%EA%B3%84_%ED%95%99%EC%8A%B5_%EC%95%8C%EA%B3%A0%EB%A6%AC%EC%A6%98\" hreflang=\"ko\" lang=\"ko\" title=\"분류:기계 학습 알고리즘 – Korean\">한국어</a></li><li class=\"interlanguage-link interwiki-ja\"><a class=\"interlanguage-link-target\" href=\"https://ja.wikipedia.org/wiki/Category:%E6%A9%9F%E6%A2%B0%E5%AD%A6%E7%BF%92%E3%82%A2%E3%83%AB%E3%82%B4%E3%83%AA%E3%82%BA%E3%83%A0\" hreflang=\"ja\" lang=\"ja\" title=\"Category:機械学習アルゴリズム – Japanese\">日本語</a></li><li class=\"interlanguage-link interwiki-sr\"><a class=\"interlanguage-link-target\" href=\"https://sr.wikipedia.org/wiki/%D0%9A%D0%B0%D1%82%D0%B5%D0%B3%D0%BE%D1%80%D0%B8%D1%98%D0%B0:%D0%90%D0%BB%D0%B3%D0%BE%D1%80%D0%B8%D1%82%D0%BC%D0%B8_%D0%BC%D0%B0%D1%88%D0%B8%D0%BD%D1%81%D0%BA%D0%BE%D0%B3_%D1%83%D1%87%D0%B5%D1%9A%D0%B0\" hreflang=\"sr\" lang=\"sr\" title=\"Категорија:Алгоритми машинског учења – Serbian\">Српски / srpski</a></li><li class=\"interlanguage-link interwiki-sh\"><a class=\"interlanguage-link-target\" href=\"https://sh.wikipedia.org/wiki/Kategorija:Algoritmi_ma%C5%A1inskog_u%C4%8Denja\" hreflang=\"sh\" lang=\"sh\" title=\"Kategorija:Algoritmi mašinskog učenja – Serbo-Croatian\">Srpskohrvatski / српскохрватски</a></li><li class=\"interlanguage-link interwiki-uk\"><a class=\"interlanguage-link-target\" href=\"https://uk.wikipedia.org/wiki/%D0%9A%D0%B0%D1%82%D0%B5%D0%B3%D0%BE%D1%80%D1%96%D1%8F:%D0%90%D0%BB%D0%B3%D0%BE%D1%80%D0%B8%D1%82%D0%BC%D0%B8_%D0%BC%D0%B0%D1%88%D0%B8%D0%BD%D0%BD%D0%BE%D0%B3%D0%BE_%D0%BD%D0%B0%D0%B2%D1%87%D0%B0%D0%BD%D0%BD%D1%8F\" hreflang=\"uk\" lang=\"uk\" title=\"Категорія:Алгоритми машинного навчання – Ukrainian\">Українська</a></li><li class=\"interlanguage-link interwiki-zh\"><a class=\"interlanguage-link-target\" href=\"https://zh.wikipedia.org/wiki/Category:%E6%A9%9F%E5%99%A8%E5%AD%B8%E7%BF%92%E6%BC%94%E7%AE%97%E6%B3%95\" hreflang=\"zh\" lang=\"zh\" title=\"Category:機器學習演算法 – Chinese\">中文</a></li></ul>\n",
       "<div class=\"after-portlet after-portlet-lang\"><span class=\"wb-langlinks-edit wb-langlinks-link\"><a class=\"wbc-editpage\" href=\"https://www.wikidata.org/wiki/Special:EntityPage/Q8592571#sitelinks-wikipedia\" title=\"Edit interlanguage links\">Edit links</a></span></div>\n",
       "</div>\n",
       "</div>\n",
       "</div>\n",
       "</div>\n",
       "<div id=\"footer\" role=\"contentinfo\">\n",
       "<ul class=\"\" id=\"footer-info\">\n",
       "<li id=\"footer-info-lastmod\"> This page was last edited on 16 June 2019, at 10:25<span class=\"anonymous-show\"> (UTC)</span>.</li>\n",
       "<li id=\"footer-info-copyright\">Text is available under the <a href=\"//en.wikipedia.org/wiki/Wikipedia:Text_of_Creative_Commons_Attribution-ShareAlike_3.0_Unported_License\" rel=\"license\">Creative Commons Attribution-ShareAlike License</a><a href=\"//creativecommons.org/licenses/by-sa/3.0/\" rel=\"license\" style=\"display:none;\"></a>;\n",
       "additional terms may apply.  By using this site, you agree to the <a href=\"//foundation.wikimedia.org/wiki/Terms_of_Use\">Terms of Use</a> and <a href=\"//foundation.wikimedia.org/wiki/Privacy_policy\">Privacy Policy</a>. Wikipedia® is a registered trademark of the <a href=\"//www.wikimediafoundation.org/\">Wikimedia Foundation, Inc.</a>, a non-profit organization.</li>\n",
       "</ul>\n",
       "<ul class=\"\" id=\"footer-places\">\n",
       "<li id=\"footer-places-privacy\"><a class=\"extiw\" href=\"https://foundation.wikimedia.org/wiki/Privacy_policy\" title=\"wmf:Privacy policy\">Privacy policy</a></li>\n",
       "<li id=\"footer-places-about\"><a href=\"/wiki/Wikipedia:About\" title=\"Wikipedia:About\">About Wikipedia</a></li>\n",
       "<li id=\"footer-places-disclaimer\"><a href=\"/wiki/Wikipedia:General_disclaimer\" title=\"Wikipedia:General disclaimer\">Disclaimers</a></li>\n",
       "<li id=\"footer-places-contact\"><a href=\"//en.wikipedia.org/wiki/Wikipedia:Contact_us\">Contact Wikipedia</a></li>\n",
       "<li id=\"footer-places-developers\"><a href=\"https://www.mediawiki.org/wiki/Special:MyLanguage/How_to_contribute\">Developers</a></li>\n",
       "<li id=\"footer-places-statslink\"><a href=\"https://stats.wikimedia.org/#/en.wikipedia.org\">Statistics</a></li>\n",
       "<li id=\"footer-places-cookiestatement\"><a href=\"https://foundation.wikimedia.org/wiki/Cookie_statement\">Cookie statement</a></li>\n",
       "<li id=\"footer-places-mobileview\"><a class=\"noprint stopMobileRedirectToggle\" href=\"//en.m.wikipedia.org/w/index.php?title=Category:Machine_learning_algorithms&amp;mobileaction=toggle_view_mobile\">Mobile view</a></li>\n",
       "</ul>\n",
       "<ul class=\"noprint\" id=\"footer-icons\">\n",
       "<li id=\"footer-copyrightico\"><a href=\"https://wikimediafoundation.org/\"><img alt=\"Wikimedia Foundation\" height=\"31\" src=\"/static/images/wikimedia-button.png\" srcset=\"/static/images/wikimedia-button-1.5x.png 1.5x, /static/images/wikimedia-button-2x.png 2x\" width=\"88\"/></a></li>\n",
       "<li id=\"footer-poweredbyico\"><a href=\"https://www.mediawiki.org/\"><img alt=\"Powered by MediaWiki\" height=\"31\" src=\"/static/images/poweredby_mediawiki_88x31.png\" srcset=\"/static/images/poweredby_mediawiki_132x47.png 1.5x, /static/images/poweredby_mediawiki_176x62.png 2x\" width=\"88\"/></a></li>\n",
       "</ul>\n",
       "<div style=\"clear: both;\"></div>\n",
       "</div>\n",
       "<script>(RLQ=window.RLQ||[]).push(function(){mw.config.set({\"wgPageParseReport\":{\"limitreport\":{\"cputime\":\"0.064\",\"walltime\":\"0.104\",\"ppvisitednodes\":{\"value\":162,\"limit\":1000000},\"postexpandincludesize\":{\"value\":3270,\"limit\":2097152},\"templateargumentsize\":{\"value\":437,\"limit\":2097152},\"expansiondepth\":{\"value\":11,\"limit\":40},\"expensivefunctioncount\":{\"value\":0,\"limit\":500},\"unstrip-depth\":{\"value\":0,\"limit\":20},\"unstrip-size\":{\"value\":0,\"limit\":5000000},\"entityaccesscount\":{\"value\":0,\"limit\":400},\"timingprofile\":[\"100.00%   89.882      1 -total\",\" 76.22%   68.509      1 Template:Commons_category\",\" 34.08%   30.631      1 Template:Commons\",\" 31.12%   27.970      1 Template:Sister_project\",\" 23.87%   21.457      1 Template:Side_box\",\" 23.60%   21.215      1 Template:Cat_see_also\",\"  8.23%    7.401      1 Template:Replace\",\"  5.39%    4.845      1 Template:Category_see_also/Category_pair_check\"]},\"scribunto\":{\"limitreport-timeusage\":{\"value\":\"0.018\",\"limit\":\"10.000\"},\"limitreport-memusage\":{\"value\":1352039,\"limit\":52428800}},\"cachereport\":{\"origin\":\"mw1240\",\"timestamp\":\"20200224170453\",\"ttl\":2592000,\"transientcontent\":false}}});mw.config.set({\"wgBackendResponseTime\":149,\"wgHostname\":\"mw1373\"});});</script></body></html>"
      ]
     },
     "execution_count": 9,
     "metadata": {},
     "output_type": "execute_result"
    }
   ],
   "source": [
    "parser2"
   ]
  },
  {
   "cell_type": "markdown",
   "metadata": {},
   "source": [
    "Выделим часть страницы, где перечисляются все статьи. А потом вытащим название статей из соответствующих гиперссылок."
   ]
  },
  {
   "cell_type": "code",
   "execution_count": 10,
   "metadata": {
    "scrolled": true
   },
   "outputs": [
    {
     "data": {
      "text/plain": [
       "[<div id=\"mw-pages\">\n",
       " <h2><span id=\"Pages_in_category\"></span>Pages in category \"Machine learning algorithms\"</h2>\n",
       " <p>The following 63 pages are in this category, out of  63 total. This list may not reflect recent changes (<a href=\"/wiki/Wikipedia:FAQ/Categorization#Why_might_a_category_list_not_be_up_to_date?\" title=\"Wikipedia:FAQ/Categorization\">learn more</a>).\n",
       " </p><div class=\"mw-content-ltr\" dir=\"ltr\" lang=\"en\"><div class=\"mw-category\"><div class=\"mw-category-group\"><h3>A</h3>\n",
       " <ul><li><span class=\"redirect-in-category\"><a class=\"mw-redirect\" href=\"/wiki/Adagrad\" title=\"Adagrad\">Adagrad</a></span></li>\n",
       " <li><a href=\"/wiki/Algorithms_of_Oppression\" title=\"Algorithms of Oppression\">Algorithms of Oppression</a></li>\n",
       " <li><a href=\"/wiki/Almeida%E2%80%93Pineda_recurrent_backpropagation\" title=\"Almeida–Pineda recurrent backpropagation\">Almeida–Pineda recurrent backpropagation</a></li></ul></div><div class=\"mw-category-group\"><h3>B</h3>\n",
       " <ul><li><a href=\"/wiki/Backpropagation\" title=\"Backpropagation\">Backpropagation</a></li>\n",
       " <li><a href=\"/wiki/Bioz\" title=\"Bioz\">Bioz</a></li>\n",
       " <li><a href=\"/wiki/Bootstrap_aggregating\" title=\"Bootstrap aggregating\">Bootstrap aggregating</a></li></ul></div><div class=\"mw-category-group\"><h3>C</h3>\n",
       " <ul><li><a href=\"/wiki/CN2_algorithm\" title=\"CN2 algorithm\">CN2 algorithm</a></li>\n",
       " <li><a href=\"/wiki/Constructing_skill_trees\" title=\"Constructing skill trees\">Constructing skill trees</a></li></ul></div><div class=\"mw-category-group\"><h3>D</h3>\n",
       " <ul><li><a href=\"/wiki/Deep_reinforcement_learning\" title=\"Deep reinforcement learning\">Deep reinforcement learning</a></li>\n",
       " <li><a href=\"/wiki/Dehaene%E2%80%93Changeux_model\" title=\"Dehaene–Changeux model\">Dehaene–Changeux model</a></li>\n",
       " <li><a href=\"/wiki/Diffusion_map\" title=\"Diffusion map\">Diffusion map</a></li>\n",
       " <li><a href=\"/wiki/Dominance-based_rough_set_approach\" title=\"Dominance-based rough set approach\">Dominance-based rough set approach</a></li>\n",
       " <li><a href=\"/wiki/Dynamic_time_warping\" title=\"Dynamic time warping\">Dynamic time warping</a></li></ul></div><div class=\"mw-category-group\"><h3>E</h3>\n",
       " <ul><li><a href=\"/wiki/Elastic_net_regularization\" title=\"Elastic net regularization\">Elastic net regularization</a></li>\n",
       " <li><a href=\"/wiki/Error-driven_learning\" title=\"Error-driven learning\">Error-driven learning</a></li>\n",
       " <li><a href=\"/wiki/Evolutionary_multimodal_optimization\" title=\"Evolutionary multimodal optimization\">Evolutionary multimodal optimization</a></li>\n",
       " <li><a href=\"/wiki/Expectation%E2%80%93maximization_algorithm\" title=\"Expectation–maximization algorithm\">Expectation–maximization algorithm</a></li>\n",
       " <li><a href=\"/wiki/Extremal_Ensemble_Learning\" title=\"Extremal Ensemble Learning\">Extremal Ensemble Learning</a></li></ul></div><div class=\"mw-category-group\"><h3>F</h3>\n",
       " <ul><li><a href=\"/wiki/FastICA\" title=\"FastICA\">FastICA</a></li>\n",
       " <li><a href=\"/wiki/Forward%E2%80%93backward_algorithm\" title=\"Forward–backward algorithm\">Forward–backward algorithm</a></li></ul></div><div class=\"mw-category-group\"><h3>G</h3>\n",
       " <ul><li><a href=\"/wiki/GeneRec\" title=\"GeneRec\">GeneRec</a></li>\n",
       " <li><a href=\"/wiki/Genetic_Algorithm_for_Rule_Set_Production\" title=\"Genetic Algorithm for Rule Set Production\">Genetic Algorithm for Rule Set Production</a></li>\n",
       " <li><a href=\"/wiki/Growing_self-organizing_map\" title=\"Growing self-organizing map\">Growing self-organizing map</a></li></ul></div><div class=\"mw-category-group\"><h3>H</h3>\n",
       " <ul><li><a href=\"/wiki/Hyper_basis_function_network\" title=\"Hyper basis function network\">Hyper basis function network</a></li></ul></div><div class=\"mw-category-group\"><h3>I</h3>\n",
       " <ul><li><a href=\"/wiki/IDistance\" title=\"IDistance\">IDistance</a></li></ul></div><div class=\"mw-category-group\"><h3>K</h3>\n",
       " <ul><li><a href=\"/wiki/K-nearest_neighbors_algorithm\" title=\"K-nearest neighbors algorithm\">K-nearest neighbors algorithm</a></li>\n",
       " <li><a href=\"/wiki/Kernel_methods_for_vector_output\" title=\"Kernel methods for vector output\">Kernel methods for vector output</a></li>\n",
       " <li><a href=\"/wiki/Kernel_principal_component_analysis\" title=\"Kernel principal component analysis\">Kernel principal component analysis</a></li></ul></div><div class=\"mw-category-group\"><h3>L</h3>\n",
       " <ul><li><a href=\"/wiki/Leabra\" title=\"Leabra\">Leabra</a></li>\n",
       " <li><a href=\"/wiki/Linde%E2%80%93Buzo%E2%80%93Gray_algorithm\" title=\"Linde–Buzo–Gray algorithm\">Linde–Buzo–Gray algorithm</a></li>\n",
       " <li><a href=\"/wiki/Local_outlier_factor\" title=\"Local outlier factor\">Local outlier factor</a></li>\n",
       " <li><a href=\"/wiki/Logic_learning_machine\" title=\"Logic learning machine\">Logic learning machine</a></li>\n",
       " <li><a href=\"/wiki/LogitBoost\" title=\"LogitBoost\">LogitBoost</a></li>\n",
       " <li><a href=\"/wiki/Loss_functions_for_classification\" title=\"Loss functions for classification\">Loss functions for classification</a></li></ul></div><div class=\"mw-category-group\"><h3>M</h3>\n",
       " <ul><li><a href=\"/wiki/Manifold_alignment\" title=\"Manifold alignment\">Manifold alignment</a></li>\n",
       " <li><a href=\"/wiki/Minimum_redundancy_feature_selection\" title=\"Minimum redundancy feature selection\">Minimum redundancy feature selection</a></li>\n",
       " <li><a href=\"/wiki/Mixture_of_experts\" title=\"Mixture of experts\">Mixture of experts</a></li>\n",
       " <li><a href=\"/wiki/Multiple_kernel_learning\" title=\"Multiple kernel learning\">Multiple kernel learning</a></li></ul></div><div class=\"mw-category-group\"><h3>N</h3>\n",
       " <ul><li><a href=\"/wiki/Non-negative_matrix_factorization\" title=\"Non-negative matrix factorization\">Non-negative matrix factorization</a></li></ul></div><div class=\"mw-category-group\"><h3>O</h3>\n",
       " <ul><li><a href=\"/wiki/Online_machine_learning\" title=\"Online machine learning\">Online machine learning</a></li>\n",
       " <li><a href=\"/wiki/Out-of-bag_error\" title=\"Out-of-bag error\">Out-of-bag error</a></li></ul></div><div class=\"mw-category-group\"><h3>P</h3>\n",
       " <ul><li><a href=\"/wiki/Prefrontal_cortex_basal_ganglia_working_memory\" title=\"Prefrontal cortex basal ganglia working memory\">Prefrontal cortex basal ganglia working memory</a></li>\n",
       " <li><a href=\"/wiki/Prototype_methods\" title=\"Prototype methods\">Prototype methods</a></li>\n",
       " <li><a href=\"/wiki/PVLV\" title=\"PVLV\">PVLV</a></li></ul></div><div class=\"mw-category-group\"><h3>Q</h3>\n",
       " <ul><li><a href=\"/wiki/Q-learning\" title=\"Q-learning\">Q-learning</a></li>\n",
       " <li><a href=\"/wiki/Quadratic_unconstrained_binary_optimization\" title=\"Quadratic unconstrained binary optimization\">Quadratic unconstrained binary optimization</a></li>\n",
       " <li><a href=\"/wiki/Query-level_feature\" title=\"Query-level feature\">Query-level feature</a></li>\n",
       " <li><a href=\"/wiki/Quickprop\" title=\"Quickprop\">Quickprop</a></li></ul></div><div class=\"mw-category-group\"><h3>R</h3>\n",
       " <ul><li><a href=\"/wiki/Radial_basis_function_network\" title=\"Radial basis function network\">Radial basis function network</a></li>\n",
       " <li><a href=\"/wiki/Randomized_weighted_majority_algorithm\" title=\"Randomized weighted majority algorithm\">Randomized weighted majority algorithm</a></li>\n",
       " <li><a href=\"/wiki/Repeated_incremental_pruning_to_produce_error_reduction_(RIPPER)\" title=\"Repeated incremental pruning to produce error reduction (RIPPER)\">Repeated incremental pruning to produce error reduction (RIPPER)</a></li>\n",
       " <li><a href=\"/wiki/Rprop\" title=\"Rprop\">Rprop</a></li>\n",
       " <li><a href=\"/wiki/Rule-based_machine_learning\" title=\"Rule-based machine learning\">Rule-based machine learning</a></li></ul></div><div class=\"mw-category-group\"><h3>S</h3>\n",
       " <ul><li><a href=\"/wiki/Skill_chaining\" title=\"Skill chaining\">Skill chaining</a></li>\n",
       " <li><a href=\"/wiki/Sparse_PCA\" title=\"Sparse PCA\">Sparse PCA</a></li>\n",
       " <li><a href=\"/wiki/State%E2%80%93action%E2%80%93reward%E2%80%93state%E2%80%93action\" title=\"State–action–reward–state–action\">State–action–reward–state–action</a></li>\n",
       " <li><a href=\"/wiki/User:Tsbertalan/Reinforcement_Learning\" title=\"User:Tsbertalan/Reinforcement Learning\">User:Tsbertalan/Reinforcement Learning</a></li>\n",
       " <li><a href=\"/wiki/Stochastic_gradient_descent\" title=\"Stochastic gradient descent\">Stochastic gradient descent</a></li>\n",
       " <li><a href=\"/wiki/Structured_kNN\" title=\"Structured kNN\">Structured kNN</a></li></ul></div><div class=\"mw-category-group\"><h3>T</h3>\n",
       " <ul><li><a href=\"/wiki/T-distributed_stochastic_neighbor_embedding\" title=\"T-distributed stochastic neighbor embedding\">T-distributed stochastic neighbor embedding</a></li>\n",
       " <li><a href=\"/wiki/Triplet_loss\" title=\"Triplet loss\">Triplet loss</a></li></ul></div><div class=\"mw-category-group\"><h3>W</h3>\n",
       " <ul><li><a href=\"/wiki/Wake-sleep_algorithm\" title=\"Wake-sleep algorithm\">Wake-sleep algorithm</a></li>\n",
       " <li><a href=\"/wiki/Weighted_majority_algorithm_(machine_learning)\" title=\"Weighted majority algorithm (machine learning)\">Weighted majority algorithm (machine learning)</a></li></ul></div></div></div>\n",
       " </div>]"
      ]
     },
     "execution_count": 10,
     "metadata": {},
     "output_type": "execute_result"
    }
   ],
   "source": [
    "parser2.findAll(\"div\", attrs={\"id\" : \"mw-pages\"} )"
   ]
  },
  {
   "cell_type": "code",
   "execution_count": 11,
   "metadata": {},
   "outputs": [],
   "source": [
    "x = parser2.findAll(\"div\", attrs={\"id\" : \"mw-pages\"} )[0]\n",
    "x = x.findAll(\"div\", attrs={\"class\" : \"mw-content-ltr\"} )[0]"
   ]
  },
  {
   "cell_type": "code",
   "execution_count": 12,
   "metadata": {},
   "outputs": [
    {
     "name": "stdout",
     "output_type": "stream",
     "text": [
      "Adagrad\n",
      "Algorithms of Oppression\n",
      "Almeida–Pineda recurrent backpropagation\n",
      "Backpropagation\n",
      "Bioz\n",
      "Bootstrap aggregating\n",
      "CN2 algorithm\n",
      "Constructing skill trees\n",
      "Deep reinforcement learning\n",
      "Dehaene–Changeux model\n",
      "Diffusion map\n",
      "Dominance-based rough set approach\n",
      "Dynamic time warping\n",
      "Elastic net regularization\n",
      "Error-driven learning\n",
      "Evolutionary multimodal optimization\n",
      "Expectation–maximization algorithm\n",
      "Extremal Ensemble Learning\n",
      "FastICA\n",
      "Forward–backward algorithm\n",
      "GeneRec\n",
      "Genetic Algorithm for Rule Set Production\n",
      "Growing self-organizing map\n",
      "Hyper basis function network\n",
      "IDistance\n",
      "K-nearest neighbors algorithm\n",
      "Kernel methods for vector output\n",
      "Kernel principal component analysis\n",
      "Leabra\n",
      "Linde–Buzo–Gray algorithm\n",
      "Local outlier factor\n",
      "Logic learning machine\n",
      "LogitBoost\n",
      "Loss functions for classification\n",
      "Manifold alignment\n",
      "Minimum redundancy feature selection\n",
      "Mixture of experts\n",
      "Multiple kernel learning\n",
      "Non-negative matrix factorization\n",
      "Online machine learning\n",
      "Out-of-bag error\n",
      "Prefrontal cortex basal ganglia working memory\n",
      "Prototype methods\n",
      "PVLV\n",
      "Q-learning\n",
      "Quadratic unconstrained binary optimization\n",
      "Query-level feature\n",
      "Quickprop\n",
      "Radial basis function network\n",
      "Randomized weighted majority algorithm\n",
      "Repeated incremental pruning to produce error reduction (RIPPER)\n",
      "Rprop\n",
      "Rule-based machine learning\n",
      "Skill chaining\n",
      "Sparse PCA\n",
      "State–action–reward–state–action\n",
      "User:Tsbertalan/Reinforcement Learning\n",
      "Stochastic gradient descent\n",
      "Structured kNN\n",
      "T-distributed stochastic neighbor embedding\n",
      "Triplet loss\n",
      "Wake-sleep algorithm\n",
      "Weighted majority algorithm (machine learning)\n"
     ]
    }
   ],
   "source": [
    "arr_2 = []\n",
    "for i in x.findAll(\"a\" ):\n",
    "    print(i.text)\n",
    "    arr_2.append(i.text)"
   ]
  },
  {
   "cell_type": "markdown",
   "metadata": {},
   "source": [
    "### Результат\n",
    "<b id =answ></b>"
   ]
  },
  {
   "cell_type": "markdown",
   "metadata": {},
   "source": [
    "Все заголовки верхнего уровня из статьи https://en.wikipedia.org/wiki/Bias-variance_tradeoff"
   ]
  },
  {
   "cell_type": "code",
   "execution_count": 13,
   "metadata": {},
   "outputs": [
    {
     "name": "stdout",
     "output_type": "stream",
     "text": [
      "Motivation\n",
      "Bias–variance decomposition of squared error\n",
      "Derivation\n",
      "Application to regression\n",
      "Application to classification\n",
      "Approaches\n",
      "k-nearest neighbors\n",
      "Application to human learning\n",
      "See also\n",
      "References\n"
     ]
    }
   ],
   "source": [
    "print(\"\\n\".join(arr_1))"
   ]
  },
  {
   "cell_type": "markdown",
   "metadata": {},
   "source": [
    "Названия всех статей в категории Machine Learning Algorithms со страницы https://en.wikipedia.org/wiki/Category:Machine_learning_algorithms названия всех статей в категории Machine Learning Algorithms"
   ]
  },
  {
   "cell_type": "code",
   "execution_count": 14,
   "metadata": {},
   "outputs": [
    {
     "name": "stdout",
     "output_type": "stream",
     "text": [
      "Adagrad\n",
      "Algorithms of Oppression\n",
      "Almeida–Pineda recurrent backpropagation\n",
      "Backpropagation\n",
      "Bioz\n",
      "Bootstrap aggregating\n",
      "CN2 algorithm\n",
      "Constructing skill trees\n",
      "Deep reinforcement learning\n",
      "Dehaene–Changeux model\n",
      "Diffusion map\n",
      "Dominance-based rough set approach\n",
      "Dynamic time warping\n",
      "Elastic net regularization\n",
      "Error-driven learning\n",
      "Evolutionary multimodal optimization\n",
      "Expectation–maximization algorithm\n",
      "Extremal Ensemble Learning\n",
      "FastICA\n",
      "Forward–backward algorithm\n",
      "GeneRec\n",
      "Genetic Algorithm for Rule Set Production\n",
      "Growing self-organizing map\n",
      "Hyper basis function network\n",
      "IDistance\n",
      "K-nearest neighbors algorithm\n",
      "Kernel methods for vector output\n",
      "Kernel principal component analysis\n",
      "Leabra\n",
      "Linde–Buzo–Gray algorithm\n",
      "Local outlier factor\n",
      "Logic learning machine\n",
      "LogitBoost\n",
      "Loss functions for classification\n",
      "Manifold alignment\n",
      "Minimum redundancy feature selection\n",
      "Mixture of experts\n",
      "Multiple kernel learning\n",
      "Non-negative matrix factorization\n",
      "Online machine learning\n",
      "Out-of-bag error\n",
      "Prefrontal cortex basal ganglia working memory\n",
      "Prototype methods\n",
      "PVLV\n",
      "Q-learning\n",
      "Quadratic unconstrained binary optimization\n",
      "Query-level feature\n",
      "Quickprop\n",
      "Radial basis function network\n",
      "Randomized weighted majority algorithm\n",
      "Repeated incremental pruning to produce error reduction (RIPPER)\n",
      "Rprop\n",
      "Rule-based machine learning\n",
      "Skill chaining\n",
      "Sparse PCA\n",
      "State–action–reward–state–action\n",
      "User:Tsbertalan/Reinforcement Learning\n",
      "Stochastic gradient descent\n",
      "Structured kNN\n",
      "T-distributed stochastic neighbor embedding\n",
      "Triplet loss\n",
      "Wake-sleep algorithm\n",
      "Weighted majority algorithm (machine learning)\n"
     ]
    }
   ],
   "source": [
    "print(\"\\n\".join(arr_2))"
   ]
  }
 ],
 "metadata": {
  "kernelspec": {
   "display_name": "Python 3",
   "language": "python",
   "name": "python3"
  },
  "language_info": {
   "codemirror_mode": {
    "name": "ipython",
    "version": 3
   },
   "file_extension": ".py",
   "mimetype": "text/x-python",
   "name": "python",
   "nbconvert_exporter": "python",
   "pygments_lexer": "ipython3",
   "version": "3.8.3"
  },
  "toc": {
   "base_numbering": 1,
   "nav_menu": {},
   "number_sections": true,
   "sideBar": true,
   "skip_h1_title": false,
   "title_cell": "Table of Contents",
   "title_sidebar": "Contents",
   "toc_cell": false,
   "toc_position": {},
   "toc_section_display": true,
   "toc_window_display": false
  }
 },
 "nbformat": 4,
 "nbformat_minor": 2
}
