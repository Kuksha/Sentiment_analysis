{
 "cells": [
  {
   "cell_type": "code",
   "execution_count": 3,
   "metadata": {},
   "outputs": [],
   "source": [
    "import pandas as pd\n",
    "import numpy as np\n",
    "import requests as rq\n",
    "import re\n",
    "import bs4\n",
    "from tqdm import tqdm\n",
    "from langdetect import detect\n",
    "from sklearn.feature_extraction.text import CountVectorizer,TfidfTransformer\n",
    "from sklearn.linear_model import LogisticRegression, SGDClassifier\n",
    "from sklearn.svm import LinearSVC\n",
    "from sklearn.ensemble import GradientBoostingClassifier, RandomForestClassifier\n",
    "from sklearn.model_selection import cross_val_score ,StratifiedKFold,GridSearchCV,RandomizedSearchCV\n",
    "from sklearn.pipeline import Pipeline\n",
    "import nltk\n",
    "from sklearn.decomposition import TruncatedSVD\n"
   ]
  },
  {
   "cell_type": "markdown",
   "metadata": {},
   "source": [
    "#### Сбор данных "
   ]
  },
  {
   "cell_type": "markdown",
   "metadata": {},
   "source": [
    "Получение адресов"
   ]
  },
  {
   "cell_type": "code",
   "execution_count": 4,
   "metadata": {},
   "outputs": [
    {
     "name": "stderr",
     "output_type": "stream",
     "text": [
      "  0%|                                                                                           | 0/20 [00:00<?, ?it/s]C:\\Users\\Grigorii\\anaconda3\\lib\\site-packages\\bs4\\__init__.py:205: UserWarning: The \"fromEncoding\" argument to the BeautifulSoup constructor has been renamed to \"from_encoding.\"\n",
      "  warnings.warn(\n",
      "C:\\Users\\Grigorii\\anaconda3\\lib\\site-packages\\bs4\\__init__.py:220: UserWarning: You provided Unicode markup but also provided a value for from_encoding. Your from_encoding will be ignored.\n",
      "  warnings.warn(\"You provided Unicode markup but also provided a value for from_encoding. Your from_encoding will be ignored.\")\n",
      "100%|██████████████████████████████████████████████████████████████████████████████████| 20/20 [00:30<00:00,  1.53s/it]\n"
     ]
    }
   ],
   "source": [
    "arr_link = []\n",
    "\n",
    "url = \"https://www.e-katalog.ru\"\n",
    "for i in tqdm(range(0,20)):\n",
    "    adres = \"https://www.e-katalog.ru/list/122/\" + str(i) + \"/\"\n",
    "    html = rq.get(adres)\n",
    "    parser = bs4.BeautifulSoup(html.text,\"lxml\", fromEncoding=\"cp1251\")\n",
    "    parser = parser.findAll(\"div\", attrs={\"class\" : \"ib model-short-links no-mobile\"})\n",
    "\n",
    "    for case in parser:\n",
    "        com = case.find(text=re.compile(\"Отзывы\"))\n",
    "        if com is None:\n",
    "            continue\n",
    "        c = com.findParent().findParent()\n",
    "        link =  url + c.attrs[\"link\"]\n",
    "        arr_link.append(link)"
   ]
  },
  {
   "cell_type": "code",
   "execution_count": 5,
   "metadata": {},
   "outputs": [
    {
     "data": {
      "text/plain": [
       "['https://www.e-katalog.ru/review/xiaomi-redmi-note-8-pro-128gb-6gb/',\n",
       " 'https://www.e-katalog.ru/review/xiaomi-redmi-note-9-pro-128gb/',\n",
       " 'https://www.e-katalog.ru/review/apple-iphone-xr-64gb/',\n",
       " 'https://www.e-katalog.ru/review/apple-iphone-x-64gb/',\n",
       " 'https://www.e-katalog.ru/review/samsung-galaxy-s10-128gb/']"
      ]
     },
     "execution_count": 5,
     "metadata": {},
     "output_type": "execute_result"
    }
   ],
   "source": [
    "arr_link[:5]"
   ]
  },
  {
   "cell_type": "markdown",
   "metadata": {},
   "source": [
    "Получим отзывы"
   ]
  },
  {
   "cell_type": "code",
   "execution_count": 6,
   "metadata": {
    "scrolled": true
   },
   "outputs": [
    {
     "name": "stderr",
     "output_type": "stream",
     "text": [
      "100%|████████████████████████████████████████████████████████████████████████████████| 389/389 [05:47<00:00,  1.12it/s]"
     ]
    },
    {
     "name": "stdout",
     "output_type": "stream",
     "text": [
      "Wall time: 5min 47s\n"
     ]
    },
    {
     "name": "stderr",
     "output_type": "stream",
     "text": [
      "\n"
     ]
    }
   ],
   "source": [
    "%%time\n",
    "plus, minus = [], []\n",
    "for l in tqdm(arr_link):\n",
    "    html = rq.get(l)\n",
    "    parser = bs4.BeautifulSoup(html.text,\"lxml\", fromEncoding=\"cp1251\")\n",
    "    arr_plus = parser.findAll(\"div\", attrs={\"class\" : \"review-plus\"})\n",
    "    arr_minus = parser.findAll(\"div\", attrs={\"class\" : \"review-minus\"})\n",
    "    for x in arr_plus:\n",
    "        # выбросим все наблюдения где мало слов\n",
    "        if len(x.text) < 105:\n",
    "            continue\n",
    "        # выбросим комментраии не на русском языке\n",
    "        lang = detect(x.text)\n",
    "        if lang != \"ru\":\n",
    "            continue\n",
    "        plus.append(x.text)\n",
    "    # всё толже самое для отрицательных отзывов\n",
    "    for x in arr_minus:\n",
    "        if len(x.text) < 105:\n",
    "            continue\n",
    "        lang = detect(x.text)\n",
    "        if lang != \"ru\":\n",
    "            continue\n",
    "        minus.append(x.text)\n",
    "    \n",
    "    "
   ]
  },
  {
   "cell_type": "code",
   "execution_count": 7,
   "metadata": {},
   "outputs": [
    {
     "data": {
      "text/plain": [
       "785"
      ]
     },
     "execution_count": 7,
     "metadata": {},
     "output_type": "execute_result"
    }
   ],
   "source": [
    "len(minus)"
   ]
  },
  {
   "cell_type": "code",
   "execution_count": 8,
   "metadata": {},
   "outputs": [
    {
     "data": {
      "text/plain": [
       "915"
      ]
     },
     "execution_count": 8,
     "metadata": {},
     "output_type": "execute_result"
    }
   ],
   "source": [
    "len(plus)"
   ]
  },
  {
   "cell_type": "code",
   "execution_count": 9,
   "metadata": {},
   "outputs": [
    {
     "data": {
      "text/plain": [
       "['Присутствие нагрева в тяжёлых играх на ультра настройках. Снижение настроек до средних снимает нагрузку и температура падает до комфортных.',\n",
       " 'Есть глюки в некоторых приложениях, но я думаю это поправят.\\rСильно выпирает камера, стандартный чехол от царапин на камере не защитит, лучше сразу нормальный купить.',\n",
       " 'Сырое ПО, надеюсь как и во всех xiaomi со временем допилят. Звонилка ужасная (особенно после того как гугл запретил записывать звонки) всегда пользовался (на редми 3, редми нот 3 про) звонилкой true phone. Очень расширяет возможности и удобства звонили по сравнению со стандартной, но здесь программа работает не корректно (скорее виноват андроид 10) надеюсь со временем допилят. Записи звонков нет (гугл запретил), а мне эта функция очень нужна т. к.  по телефону передаётся много инфы, а ручки и бумаги что бы всё записать под рукой нет (потому как большую часть времени за рулём). Думал установить как на раннии аппараты стороннее приложение cube acr (очень хорошее функциональное приложение), но и оно записывает собеседника только ту часть разговора которую слышит микрофон, но при этом записываются посторонние шумы. Ну, а при работе с гарнитурой (а я ей пользуюсь на 95%.) это вообще исключено т. к. микрофон не слышит что произносится в гарнитур. Во всём виноват гугл со своим запретом. Были мысли поменяться с женой телефонами (редми нот 7)  но там нет nfc, что было при покупке важным фактором. Остаётся надеяться, что в скором времени допилят ПО и сторонние приложения обойдут запрет гугла. И Wi-Fi при слабой сети старые редми 3 и нот 3 про ловят там где 9про сдаётся почему-то.',\n",
       " 'Дамы и господа! Недостатков было найденно несколько! Это не выносимость этого устройства к холоду. А также защита от воды и пыли IP67 этого маловато!',\n",
       " 'Отсутсвие мини джека под наушники. Но это скорей даже +. Ведь движет прогрессом. За беспроводными технологиями будущее.']"
      ]
     },
     "execution_count": 9,
     "metadata": {},
     "output_type": "execute_result"
    }
   ],
   "source": [
    "minus[:5]"
   ]
  },
  {
   "cell_type": "code",
   "execution_count": 10,
   "metadata": {},
   "outputs": [],
   "source": [
    "texts = plus + minus\n",
    "labels = [0] * len(plus) + [1] * len(minus)"
   ]
  },
  {
   "cell_type": "markdown",
   "metadata": {},
   "source": [
    "#### Построение базовой модели"
   ]
  },
  {
   "cell_type": "code",
   "execution_count": 12,
   "metadata": {},
   "outputs": [],
   "source": [
    "def make_pipeline(vectorizer, transformer, classifier):\n",
    "    return Pipeline([\n",
    "            ('vectorizer', vectorizer),\n",
    "            ('transformer', transformer),\n",
    "            ('classifier', classifier)\n",
    "        ])"
   ]
  },
  {
   "cell_type": "code",
   "execution_count": 13,
   "metadata": {},
   "outputs": [
    {
     "name": "stdout",
     "output_type": "stream",
     "text": [
      "0.8992028266099817\n"
     ]
    }
   ],
   "source": [
    "pipe_base = make_pipeline(CountVectorizer(), TfidfTransformer(),LogisticRegression(solver = \"liblinear\"))\n",
    "result_base = cross_val_score(pipe_base, texts, labels, cv =5, scoring=\"accuracy\")\n",
    "print(result_base.mean())"
   ]
  },
  {
   "cell_type": "markdown",
   "metadata": {},
   "source": [
    "#### Считаем тестовые данные"
   ]
  },
  {
   "cell_type": "code",
   "execution_count": 14,
   "metadata": {},
   "outputs": [],
   "source": [
    "rock = open('test.csv', 'r', encoding=\"utf8\")\n",
    "r = rock.read().replace('\\n', ' ')\n",
    "\n",
    "parser = bs4.BeautifulSoup(r,\"lxml\")\n",
    "\n",
    "cases = parser.find_all(\"review\")\n",
    "\n",
    "test_arr = []\n",
    "for i in cases:\n",
    "    test_arr.append(i.text)"
   ]
  },
  {
   "cell_type": "code",
   "execution_count": 15,
   "metadata": {},
   "outputs": [
    {
     "data": {
      "text/plain": [
       "'Ужасно глючит, установка не предустановленных тем грозит зависанием везде и во всём, может посто зависнуть во время разговора, синхронизации никакой, не советую заходить в почту через быструю клавишу просто сваливает настройки интернета которые потом смогли переустановить только после пере прошивки, громкость динамика для разговора очень тихая, о-о-очень ме-е-едленный!!! Телефон крепкий с хорошим аккумулятором, но слишком сырой для использования, на улице собеседника почти не слышно, при попытке увеличить громкость телефон направляет на приём к ухо горло носу:)) да и в игры в нём полноценно поиграть не получится клавиатура отключается, это далеко не первая нокия в моих руках, но это нечто. Как то поросился обновится браузер...да...пи...пи...ПИ....- пере прошивка. За время его использования полностью в нём разочаровался. '"
      ]
     },
     "execution_count": 15,
     "metadata": {},
     "output_type": "execute_result"
    }
   ],
   "source": [
    "test_arr[50]"
   ]
  },
  {
   "cell_type": "markdown",
   "metadata": {},
   "source": [
    "#### Выбор оптимальной модели"
   ]
  },
  {
   "cell_type": "code",
   "execution_count": 16,
   "metadata": {},
   "outputs": [],
   "source": [
    "#конструктор ценочной функции\n",
    "def make_estimator(classifier, params_grid, data, labels):\n",
    "    pipeline = make_pipeline(CountVectorizer(), TfidfTransformer(), classifier)\n",
    "    grid_cv = RandomizedSearchCV(pipeline, params_grid, scoring='accuracy', cv=5, random_state=12, n_iter=100,n_jobs=-1)\n",
    "    grid_cv.fit(data, labels)\n",
    "    return grid_cv\n"
   ]
  },
  {
   "cell_type": "code",
   "execution_count": 17,
   "metadata": {},
   "outputs": [],
   "source": [
    "# Параметры для каждой модели\n",
    "\n",
    "params_grid_lr = {\n",
    "    'classifier__C': np.arange(0.1, 2, 0.1),\n",
    "    'classifier__max_iter': np.arange(50, 500, 50),\n",
    "    'classifier__solver': ['lbfgs', 'liblinear', 'sag']\n",
    "}\n",
    "params_grid_lsvc = {\n",
    "    'classifier__loss': ['hinge', 'squared_hinge'], \n",
    "    'classifier__max_iter': np.arange(100, 1000, 50),\n",
    "    'classifier__tol': [1e-5, 1e-4, 1e-3],\n",
    "    'classifier__C': np.arange(0.1, 2, 0.1)\n",
    "}\n",
    "params_grid_sgdc = {\n",
    "    'classifier__loss': ['log', 'hinge', 'modified_huber'], \n",
    "    'classifier__penalty':  ['l1', 'l2', 'elasticnet'], \n",
    "    'classifier__max_iter': np.arange(100, 1000, 50),\n",
    "    'classifier__tol': np.arange(1e-5, 1e-3, 1e-5),\n",
    "}\n",
    "\n",
    "# Параетры векторизации\n",
    "params_grid_vectorizer = {\n",
    "    'vectorizer__max_df' : [0.85, 0.9, 0.95, 1.0],\n",
    "    'vectorizer__min_df' : [1, 10, 20], \n",
    "    'vectorizer__ngram_range' : [(1, x) for x in range(1,7)]\n",
    "}"
   ]
  },
  {
   "cell_type": "code",
   "execution_count": 18,
   "metadata": {},
   "outputs": [
    {
     "name": "stdout",
     "output_type": "stream",
     "text": [
      "LogisticRegression: 0.9013\n",
      "Wall time: 1min 40s\n"
     ]
    }
   ],
   "source": [
    "%%time\n",
    "grid_search_lr = make_estimator(LogisticRegression(), \n",
    "                                {**params_grid_vectorizer, **params_grid_lr}, texts, labels)\n",
    "print(\"LogisticRegression: %.4f\" % grid_search_lr.best_score_ )\n"
   ]
  },
  {
   "cell_type": "code",
   "execution_count": 19,
   "metadata": {},
   "outputs": [
    {
     "name": "stdout",
     "output_type": "stream",
     "text": [
      "LinearSVC: 0.9149\n",
      "Wall time: 1min 15s\n"
     ]
    }
   ],
   "source": [
    "\n",
    "%%time\n",
    "grid_search_lsvc = make_estimator(LinearSVC(random_state=12), \n",
    "                                  {**params_grid_vectorizer, **params_grid_lsvc}, texts, labels)\n",
    "print(\"LinearSVC: %.4f\" % grid_search_lsvc.best_score_ )"
   ]
  },
  {
   "cell_type": "code",
   "execution_count": 20,
   "metadata": {},
   "outputs": [
    {
     "name": "stdout",
     "output_type": "stream",
     "text": [
      "SGDClassifier: 0.9091\n",
      "Wall time: 1min 16s\n"
     ]
    }
   ],
   "source": [
    "\n",
    "%%time\n",
    "grid_search_sgdc = make_estimator(SGDClassifier(random_state=12), \n",
    "                                  {**params_grid_vectorizer, **params_grid_sgdc},  texts, labels)\n",
    "print(\"SGDClassifier: %.4f\" % grid_search_sgdc.best_score_ )\n"
   ]
  },
  {
   "cell_type": "code",
   "execution_count": 21,
   "metadata": {},
   "outputs": [],
   "source": [
    "prediction = grid_search_lsvc.best_estimator_.predict(test_arr)"
   ]
  },
  {
   "cell_type": "code",
   "execution_count": 22,
   "metadata": {},
   "outputs": [],
   "source": [
    "df = pd.DataFrame()\n",
    "df[\"Id\"] = [ x for x in range(0,100)]\n",
    "df[\"y\"] = prediction\n",
    "df[\"y\"] = df[\"y\"].map({0:\"pos\", 1:\"neg\"})\n",
    "df.to_csv(\"submission.csv\", index = False)"
   ]
  },
  {
   "cell_type": "markdown",
   "metadata": {},
   "source": [
    "#### Результат"
   ]
  },
  {
   "cell_type": "markdown",
   "metadata": {},
   "source": [
    "Так как соревнование уже завершено, прикрипляю скриншот с последним результатом "
   ]
  },
  {
   "cell_type": "markdown",
   "metadata": {},
   "source": [
    "![\"Результат\"](sentiment-kaggle.png)"
   ]
  },
  {
   "cell_type": "markdown",
   "metadata": {},
   "source": [
    "#### Для приложения"
   ]
  },
  {
   "cell_type": "code",
   "execution_count": 23,
   "metadata": {},
   "outputs": [],
   "source": [
    "import pickle"
   ]
  },
  {
   "cell_type": "code",
   "execution_count": 24,
   "metadata": {},
   "outputs": [],
   "source": [
    "pickle.dump(grid_search_lsvc.best_estimator_, open(\"model.pkl\", \"wb\") )"
   ]
  },
  {
   "cell_type": "code",
   "execution_count": null,
   "metadata": {},
   "outputs": [],
   "source": []
  },
  {
   "cell_type": "code",
   "execution_count": null,
   "metadata": {},
   "outputs": [],
   "source": []
  }
 ],
 "metadata": {
  "kernelspec": {
   "display_name": "Python 3",
   "language": "python",
   "name": "python3"
  },
  "language_info": {
   "codemirror_mode": {
    "name": "ipython",
    "version": 3
   },
   "file_extension": ".py",
   "mimetype": "text/x-python",
   "name": "python",
   "nbconvert_exporter": "python",
   "pygments_lexer": "ipython3",
   "version": "3.8.3"
  },
  "toc": {
   "base_numbering": 1,
   "nav_menu": {},
   "number_sections": true,
   "sideBar": true,
   "skip_h1_title": false,
   "title_cell": "Table of Contents",
   "title_sidebar": "Contents",
   "toc_cell": false,
   "toc_position": {},
   "toc_section_display": true,
   "toc_window_display": false
  }
 },
 "nbformat": 4,
 "nbformat_minor": 2
}
