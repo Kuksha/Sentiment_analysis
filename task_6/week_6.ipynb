{
 "cells": [
  {
   "cell_type": "code",
   "execution_count": 3,
   "metadata": {
    "ExecuteTime": {
     "end_time": "2021-05-09T08:44:04.009483Z",
     "start_time": "2021-05-09T08:44:03.995479Z"
    }
   },
   "outputs": [],
   "source": [
    "import pandas as pd\n",
    "import numpy as np\n",
    "import requests as rq\n",
    "import re\n",
    "import bs4\n",
    "import pickle\n",
    "import nltk\n",
    "from tqdm import tqdm\n",
    "from langdetect import detect\n",
    "from sklearn.feature_extraction.text import CountVectorizer,TfidfTransformer\n",
    "from sklearn.linear_model import LogisticRegression, SGDClassifier\n",
    "from sklearn.svm import LinearSVC\n",
    "from sklearn.ensemble import GradientBoostingClassifier, RandomForestClassifier\n",
    "from sklearn.model_selection import cross_val_score ,StratifiedKFold,GridSearchCV,RandomizedSearchCV\n",
    "from sklearn.pipeline import Pipeline\n",
    "from sklearn.decomposition import TruncatedSVD\n"
   ]
  },
  {
   "cell_type": "markdown",
   "metadata": {},
   "source": [
    "#### Сбор данных "
   ]
  },
  {
   "cell_type": "markdown",
   "metadata": {},
   "source": [
    "Получение адресов"
   ]
  },
  {
   "cell_type": "code",
   "execution_count": 4,
   "metadata": {
    "ExecuteTime": {
     "end_time": "2021-05-09T08:44:47.747520Z",
     "start_time": "2021-05-09T08:44:04.011483Z"
    }
   },
   "outputs": [
    {
     "name": "stderr",
     "output_type": "stream",
     "text": [
      "100%|██████████████████████████████████████████████████████████████████████████████████| 20/20 [00:43<00:00,  2.19s/it]\n"
     ]
    }
   ],
   "source": [
    "arr_link = []\n",
    "\n",
    "url = \"https://www.e-katalog.ru\"\n",
    "for i in tqdm(range(0,20)):\n",
    "    adres = \"https://www.e-katalog.ru/list/122/\" + str(i) + \"/\"\n",
    "    html = rq.get(adres)\n",
    "    parser = bs4.BeautifulSoup(html.text,\"lxml\", fromEncoding=\"cp1251\")\n",
    "    parser = parser.findAll(\"div\", attrs={\"class\" : \"ib model-short-links no-mobile\"})\n",
    "\n",
    "    for case in parser:\n",
    "        com = case.find(text=re.compile(\"Отзывы\"))\n",
    "        if com is None:\n",
    "            continue\n",
    "        c = com.findParent().findParent()\n",
    "        link =  url + c.attrs[\"link\"]\n",
    "        arr_link.append(link)"
   ]
  },
  {
   "cell_type": "code",
   "execution_count": 5,
   "metadata": {
    "ExecuteTime": {
     "end_time": "2021-05-09T08:44:47.763523Z",
     "start_time": "2021-05-09T08:44:47.749520Z"
    }
   },
   "outputs": [
    {
     "data": {
      "text/plain": [
       "['https://www.e-katalog.ru/review/apple-iphone-11-128gb/',\n",
       " 'https://www.e-katalog.ru/review/apple-iphone-xr-64gb/',\n",
       " 'https://www.e-katalog.ru/review/xiaomi-poco-x3-nfc-128gb/',\n",
       " 'https://www.e-katalog.ru/review/samsung-galaxy-a52-4g-128gb-4gb/',\n",
       " 'https://www.e-katalog.ru/review/apple-iphone-x-64gb/']"
      ]
     },
     "execution_count": 5,
     "metadata": {},
     "output_type": "execute_result"
    }
   ],
   "source": [
    "arr_link[:5]"
   ]
  },
  {
   "cell_type": "markdown",
   "metadata": {},
   "source": [
    "Получим отзывы"
   ]
  },
  {
   "cell_type": "code",
   "execution_count": 6,
   "metadata": {
    "ExecuteTime": {
     "end_time": "2021-05-09T08:48:24.781285Z",
     "start_time": "2021-05-09T08:44:47.764523Z"
    },
    "scrolled": true
   },
   "outputs": [
    {
     "name": "stderr",
     "output_type": "stream",
     "text": [
      "100%|████████████████████████████████████████████████████████████████████████████████| 381/381 [03:37<00:00,  1.76it/s]"
     ]
    },
    {
     "name": "stdout",
     "output_type": "stream",
     "text": [
      "Wall time: 3min 37s\n"
     ]
    },
    {
     "name": "stderr",
     "output_type": "stream",
     "text": [
      "\n"
     ]
    }
   ],
   "source": [
    "%%time\n",
    "plus, minus = [], []\n",
    "for l in tqdm(arr_link):\n",
    "    html = rq.get(l)\n",
    "    parser = bs4.BeautifulSoup(html.text,\"lxml\", fromEncoding=\"cp1251\")\n",
    "    arr_plus = parser.findAll(\"div\", attrs={\"class\" : \"review-plus\"})\n",
    "    arr_minus = parser.findAll(\"div\", attrs={\"class\" : \"review-minus\"})\n",
    "    for x in arr_plus:\n",
    "        # выбросим все наблюдения где мало слов\n",
    "        if len(x.text) < 105:\n",
    "            continue\n",
    "        # выбросим комментраии не на русском языке\n",
    "        lang = detect(x.text)\n",
    "        if lang != \"ru\":\n",
    "            continue\n",
    "        plus.append(x.text)\n",
    "    # всё толже самое для отрицательных отзывов\n",
    "    for x in arr_minus:\n",
    "        if len(x.text) < 105:\n",
    "            continue\n",
    "        lang = detect(x.text)\n",
    "        if lang != \"ru\":\n",
    "            continue\n",
    "        minus.append(x.text)\n",
    "    \n",
    "    "
   ]
  },
  {
   "cell_type": "code",
   "execution_count": 7,
   "metadata": {
    "ExecuteTime": {
     "end_time": "2021-05-09T08:48:24.796289Z",
     "start_time": "2021-05-09T08:48:24.782285Z"
    }
   },
   "outputs": [
    {
     "data": {
      "text/plain": [
       "700"
      ]
     },
     "execution_count": 7,
     "metadata": {},
     "output_type": "execute_result"
    }
   ],
   "source": [
    "len(minus)"
   ]
  },
  {
   "cell_type": "code",
   "execution_count": 8,
   "metadata": {
    "ExecuteTime": {
     "end_time": "2021-05-09T08:48:24.811292Z",
     "start_time": "2021-05-09T08:48:24.797288Z"
    }
   },
   "outputs": [
    {
     "data": {
      "text/plain": [
       "844"
      ]
     },
     "execution_count": 8,
     "metadata": {},
     "output_type": "execute_result"
    }
   ],
   "source": [
    "len(plus)"
   ]
  },
  {
   "cell_type": "code",
   "execution_count": 9,
   "metadata": {
    "ExecuteTime": {
     "end_time": "2021-05-09T08:48:24.827295Z",
     "start_time": "2021-05-09T08:48:24.812292Z"
    }
   },
   "outputs": [
    {
     "data": {
      "text/plain": [
       "['– глянцевая стеклянная задняя панель (брал в черном цвете), прям магнит для всевозможных отпечатков и грязи, смотрится это отвратительно, постоянно протирать ее лень, лечиться чехлом\\r– широкая рамка\\r– прослойка между экраном и стеклом, не знаю как другие а мне кажется что она там есть и это особенно заметно в районе моноброви\\r– 64 гб в минимальном конфиге крайне мало  для записи 4к 60 кадров, память забивается мгновенно, учтите при покупке кто будет снимать видео \\r– все тот же чертов itunes который на винде ничерта не хочет работать, и вытащить свежеснятый видос 4к 60к  невозможно, приходится использовать iTools\\r– выпирающая камера даже в чехле да еще и пыль собирается по краям как будто там чемто намазано\\r–  отсутствие 2х кратного зума \\r–  слабый вибромотор\\r– качество съемки на ширик крайне так себе, особенно при съемке видео при слабом свете, сразу видно что в нем нету стабилизации и шумов огромное количество\\r– жлобски маломощное зарядное в комплекте на 1А с которым телефон заряжается как улитка, исправляться любой другой норм зарядкой на 2А и больше, в моем случае это Anker\\r– вес, ибо телефон из за металлической основы корпуса довольно таки тяжелый, почти 200 грамм\\r– цена в 800 евро для Европы и еще большая для нашей страны\\r– iOS кого кошмарят ее костыли и юзабилити',\n",
       " 'Если вы роняете телефон, то сразу покупайте чехол (например nomad) и защитное стекло. Замена стекла стоит 300$ (это в Америке).\\rОтключён чип u1. (Для очень быстрой передаче данных через airdrop).',\n",
       " 'Любителям безрамочных экранов будет трудновато привыкнуть к этой модели, поскольку имеет знаменитую Айфоновскую \"челку\" и довольно широкие грани по бокам. Также не могу не отметить скользкую заднюю панель, с чехлом носить надо, если не хотите ронять телефон каждый раз.',\n",
       " 'Широкогоугольная камера -полное дно и бесполезная почти штука, с одной стороны она снимает теплые тона, и реально широко видно, с другой стороны вообще ужасный функционал на ней',\n",
       " 'Разочоровало только то, что камера не очень по дизайну. Если честно на глаза робота смахивает. Даже мемы по этой камере делают.']"
      ]
     },
     "execution_count": 9,
     "metadata": {},
     "output_type": "execute_result"
    }
   ],
   "source": [
    "minus[:5]"
   ]
  },
  {
   "cell_type": "code",
   "execution_count": 10,
   "metadata": {
    "ExecuteTime": {
     "end_time": "2021-05-09T08:48:24.843299Z",
     "start_time": "2021-05-09T08:48:24.828295Z"
    }
   },
   "outputs": [],
   "source": [
    "texts = plus + minus\n",
    "labels = [0] * len(plus) + [1] * len(minus)"
   ]
  },
  {
   "cell_type": "markdown",
   "metadata": {},
   "source": [
    "#### Построение базовой модели"
   ]
  },
  {
   "cell_type": "code",
   "execution_count": 11,
   "metadata": {
    "ExecuteTime": {
     "end_time": "2021-05-09T08:48:24.859303Z",
     "start_time": "2021-05-09T08:48:24.845300Z"
    }
   },
   "outputs": [],
   "source": [
    "def make_pipeline(vectorizer, transformer, classifier):\n",
    "    return Pipeline([\n",
    "            ('vectorizer', vectorizer),\n",
    "            ('transformer', transformer),\n",
    "            ('classifier', classifier)\n",
    "        ])"
   ]
  },
  {
   "cell_type": "code",
   "execution_count": 12,
   "metadata": {
    "ExecuteTime": {
     "end_time": "2021-05-09T08:48:25.302691Z",
     "start_time": "2021-05-09T08:48:24.861304Z"
    }
   },
   "outputs": [
    {
     "name": "stdout",
     "output_type": "stream",
     "text": [
      "0.888595385197327\n"
     ]
    }
   ],
   "source": [
    "pipe_base = make_pipeline(CountVectorizer(), TfidfTransformer(),LogisticRegression(solver = \"liblinear\"))\n",
    "result_base = cross_val_score(pipe_base, texts, labels, cv =5, scoring=\"accuracy\")\n",
    "print(result_base.mean())"
   ]
  },
  {
   "cell_type": "markdown",
   "metadata": {},
   "source": [
    "#### Считаем тестовые данные"
   ]
  },
  {
   "cell_type": "code",
   "execution_count": 13,
   "metadata": {
    "ExecuteTime": {
     "end_time": "2021-05-09T08:48:25.334698Z",
     "start_time": "2021-05-09T08:48:25.303692Z"
    }
   },
   "outputs": [],
   "source": [
    "rock = open('test.csv', 'r', encoding=\"utf8\")\n",
    "r = rock.read().replace('\\n', ' ')\n",
    "\n",
    "parser = bs4.BeautifulSoup(r,\"lxml\")\n",
    "\n",
    "cases = parser.find_all(\"review\")\n",
    "\n",
    "test_arr = []\n",
    "for i in cases:\n",
    "    test_arr.append(i.text)"
   ]
  },
  {
   "cell_type": "code",
   "execution_count": 14,
   "metadata": {
    "ExecuteTime": {
     "end_time": "2021-05-09T08:48:25.350701Z",
     "start_time": "2021-05-09T08:48:25.335698Z"
    }
   },
   "outputs": [
    {
     "data": {
      "text/plain": [
       "'Ужасно глючит, установка не предустановленных тем грозит зависанием везде и во всём, может посто зависнуть во время разговора, синхронизации никакой, не советую заходить в почту через быструю клавишу просто сваливает настройки интернета которые потом смогли переустановить только после пере прошивки, громкость динамика для разговора очень тихая, о-о-очень ме-е-едленный!!! Телефон крепкий с хорошим аккумулятором, но слишком сырой для использования, на улице собеседника почти не слышно, при попытке увеличить громкость телефон направляет на приём к ухо горло носу:)) да и в игры в нём полноценно поиграть не получится клавиатура отключается, это далеко не первая нокия в моих руках, но это нечто. Как то поросился обновится браузер...да...пи...пи...ПИ....- пере прошивка. За время его использования полностью в нём разочаровался. '"
      ]
     },
     "execution_count": 14,
     "metadata": {},
     "output_type": "execute_result"
    }
   ],
   "source": [
    "test_arr[50]"
   ]
  },
  {
   "cell_type": "markdown",
   "metadata": {},
   "source": [
    "#### Выбор оптимальной модели"
   ]
  },
  {
   "cell_type": "code",
   "execution_count": 15,
   "metadata": {
    "ExecuteTime": {
     "end_time": "2021-05-09T08:48:25.366705Z",
     "start_time": "2021-05-09T08:48:25.351702Z"
    }
   },
   "outputs": [],
   "source": [
    "#конструктор ценочной функции\n",
    "def make_estimator(classifier, params_grid, data, labels):\n",
    "    pipeline = make_pipeline(CountVectorizer(), TfidfTransformer(), classifier)\n",
    "    grid_cv = RandomizedSearchCV(pipeline, params_grid, scoring='accuracy', cv=5, random_state=12, n_iter=100,n_jobs=-1)\n",
    "    grid_cv.fit(data, labels)\n",
    "    return grid_cv\n"
   ]
  },
  {
   "cell_type": "code",
   "execution_count": 16,
   "metadata": {
    "ExecuteTime": {
     "end_time": "2021-05-09T08:48:25.381709Z",
     "start_time": "2021-05-09T08:48:25.367706Z"
    }
   },
   "outputs": [],
   "source": [
    "# Параметры для каждой модели\n",
    "\n",
    "params_grid_lr = {\n",
    "    'classifier__C': np.arange(0.1, 2, 0.1),\n",
    "    'classifier__max_iter': np.arange(50, 500, 50),\n",
    "    'classifier__solver': ['lbfgs', 'liblinear', 'sag']\n",
    "}\n",
    "params_grid_lsvc = {\n",
    "    'classifier__loss': ['hinge', 'squared_hinge'], \n",
    "    'classifier__max_iter': np.arange(100, 1000, 50),\n",
    "    'classifier__tol': [1e-5, 1e-4, 1e-3],\n",
    "    'classifier__C': np.arange(0.1, 2, 0.1)\n",
    "}\n",
    "params_grid_sgdc = {\n",
    "    'classifier__loss': ['log', 'hinge', 'modified_huber'], \n",
    "    'classifier__penalty':  ['l1', 'l2', 'elasticnet'], \n",
    "    'classifier__max_iter': np.arange(100, 1000, 50),\n",
    "    'classifier__tol': np.arange(1e-5, 1e-3, 1e-5),\n",
    "}\n",
    "\n",
    "# Параетры векторизации\n",
    "params_grid_vectorizer = {\n",
    "    'vectorizer__max_df' : [0.85, 0.9, 0.95, 1.0],\n",
    "    'vectorizer__min_df' : [1, 10, 20], \n",
    "    'vectorizer__ngram_range' : [(1, x) for x in range(1,7)]\n",
    "}"
   ]
  },
  {
   "cell_type": "code",
   "execution_count": 17,
   "metadata": {
    "ExecuteTime": {
     "end_time": "2021-05-09T08:49:05.630940Z",
     "start_time": "2021-05-09T08:48:25.382709Z"
    }
   },
   "outputs": [
    {
     "name": "stdout",
     "output_type": "stream",
     "text": [
      "LogisticRegression: 0.8944\n",
      "Wall time: 40.2 s\n"
     ]
    }
   ],
   "source": [
    "%%time\n",
    "grid_search_lr = make_estimator(LogisticRegression(), \n",
    "                                {**params_grid_vectorizer, **params_grid_lr}, texts, labels)\n",
    "print(\"LogisticRegression: %.4f\" % grid_search_lr.best_score_ )\n"
   ]
  },
  {
   "cell_type": "code",
   "execution_count": 18,
   "metadata": {
    "ExecuteTime": {
     "end_time": "2021-05-09T08:49:38.087302Z",
     "start_time": "2021-05-09T08:49:05.631940Z"
    }
   },
   "outputs": [
    {
     "name": "stdout",
     "output_type": "stream",
     "text": [
      "LinearSVC: 0.9080\n",
      "Wall time: 32.4 s\n"
     ]
    }
   ],
   "source": [
    "\n",
    "%%time\n",
    "grid_search_lsvc = make_estimator(LinearSVC(random_state=12), \n",
    "                                  {**params_grid_vectorizer, **params_grid_lsvc}, texts, labels)\n",
    "print(\"LinearSVC: %.4f\" % grid_search_lsvc.best_score_ )"
   ]
  },
  {
   "cell_type": "code",
   "execution_count": 19,
   "metadata": {
    "ExecuteTime": {
     "end_time": "2021-05-09T08:50:06.929453Z",
     "start_time": "2021-05-09T08:49:38.088303Z"
    }
   },
   "outputs": [
    {
     "name": "stdout",
     "output_type": "stream",
     "text": [
      "SGDClassifier: 0.9035\n",
      "Wall time: 28.8 s\n"
     ]
    }
   ],
   "source": [
    "\n",
    "%%time\n",
    "grid_search_sgdc = make_estimator(SGDClassifier(random_state=12), \n",
    "                                  {**params_grid_vectorizer, **params_grid_sgdc},  texts, labels)\n",
    "print(\"SGDClassifier: %.4f\" % grid_search_sgdc.best_score_ )\n"
   ]
  },
  {
   "cell_type": "code",
   "execution_count": 20,
   "metadata": {
    "ExecuteTime": {
     "end_time": "2021-05-09T08:50:06.960460Z",
     "start_time": "2021-05-09T08:50:06.930453Z"
    }
   },
   "outputs": [],
   "source": [
    "prediction = grid_search_lsvc.best_estimator_.predict(test_arr)"
   ]
  },
  {
   "cell_type": "code",
   "execution_count": 21,
   "metadata": {
    "ExecuteTime": {
     "end_time": "2021-05-09T08:50:06.992467Z",
     "start_time": "2021-05-09T08:50:06.961460Z"
    }
   },
   "outputs": [],
   "source": [
    "df = pd.DataFrame()\n",
    "df[\"Id\"] = [ x for x in range(0,100)]\n",
    "df[\"y\"] = prediction\n",
    "df[\"y\"] = df[\"y\"].map({0:\"pos\", 1:\"neg\"})\n",
    "df.to_csv(\"submission.csv\", index = False)"
   ]
  },
  {
   "cell_type": "markdown",
   "metadata": {},
   "source": [
    "#### Результат"
   ]
  },
  {
   "cell_type": "markdown",
   "metadata": {},
   "source": [
    "Так как соревнование уже завершено, прикрипляю скриншот с последним результатом "
   ]
  },
  {
   "cell_type": "markdown",
   "metadata": {},
   "source": [
    "![\"Результат\"](sentiment-kaggle.png)"
   ]
  },
  {
   "cell_type": "markdown",
   "metadata": {},
   "source": [
    "#### Для приложения"
   ]
  },
  {
   "cell_type": "code",
   "execution_count": 23,
   "metadata": {
    "ExecuteTime": {
     "end_time": "2021-05-09T08:50:07.040478Z",
     "start_time": "2021-05-09T08:50:07.009471Z"
    }
   },
   "outputs": [],
   "source": [
    "pickle.dump(grid_search_lsvc.best_estimator_, open(\"model.pkl\", \"wb\") )"
   ]
  },
  {
   "cell_type": "code",
   "execution_count": 58,
   "metadata": {
    "ExecuteTime": {
     "end_time": "2021-05-09T11:03:14.421846Z",
     "start_time": "2021-05-09T11:03:07.051185Z"
    },
    "scrolled": false
   },
   "outputs": [
    {
     "name": "stdout",
     "output_type": "stream",
     "text": [
      "# packages in environment at C:\\Users\\Grigorii\\anaconda3:\n",
      "#\n",
      "# Name                    Version                   Build  Channel\n",
      "_anaconda_depends         2020.07                  py38_0  \n",
      "_ipyw_jlab_nb_ext_conf    0.1.0                    py38_0  \n",
      "_py-xgboost-mutex         2.0                       cpu_0  \n",
      "abseil-cpp                20200923.2           h0e60522_1    conda-forge\n",
      "affine                    2.3.0                      py_0  \n",
      "aiohttp                   3.7.4.post0              pypi_0    pypi\n",
      "aiohttp-cors              0.7.0                    pypi_0    pypi\n",
      "aioredis                  1.3.1                    pypi_0    pypi\n",
      "alabaster                 0.7.12             pyhd3eb1b0_0  \n",
      "alembic                   1.5.8              pyhd3eb1b0_0  \n",
      "altair                    4.1.0                    pypi_0    pypi\n",
      "anaconda                  custom                   py38_1  \n",
      "anaconda-client           1.7.2                    py38_0  \n",
      "anaconda-navigator        1.9.12                   py38_0  \n",
      "anaconda-project          0.9.1              pyhd3eb1b0_1  \n",
      "anyio                     2.2.0            py38haa95532_1  \n",
      "appdirs                   1.4.4                    pypi_0    pypi\n",
      "argh                      0.26.2                   py38_0  \n",
      "argon2-cffi               20.1.0           py38h2bbff1b_1  \n",
      "argparse                  1.4.0                    pypi_0    pypi\n",
      "arrow-cpp                 2.0.0           py38h4bf2668_9_cpu    conda-forge\n",
      "asn1crypto                1.4.0                      py_0  \n",
      "astor                     0.8.1                    pypi_0    pypi\n",
      "astroid                   2.5              py38haa95532_1  \n",
      "astropy                   4.2.1            py38h2bbff1b_1  \n",
      "async-timeout             3.0.1                    pypi_0    pypi\n",
      "async_generator           1.10               pyhd3eb1b0_0  \n",
      "atomicwrites              1.4.0                      py_0  \n",
      "attrs                     18.2.0                   pypi_0    pypi\n",
      "automat                   20.2.0                     py_0  \n",
      "autopep8                  1.5.6              pyhd3eb1b0_0  \n",
      "aws-c-common              0.4.59               h8ffe710_1    conda-forge\n",
      "aws-c-event-stream        0.1.6                hb4e73fc_6    conda-forge\n",
      "aws-checksums             0.1.10               h6f0a1a5_0    conda-forge\n",
      "aws-sdk-cpp               1.8.70               he2782d2_1    conda-forge\n",
      "babel                     2.9.0              pyhd3eb1b0_0  \n",
      "backcall                  0.2.0              pyhd3eb1b0_0  \n",
      "backports                 1.0                pyhd3eb1b0_2  \n",
      "backports.functools_lru_cache 1.6.3              pyhd3eb1b0_0  \n",
      "backports.shutil_get_terminal_size 1.0.0              pyhd3eb1b0_3  \n",
      "backports.tempfile        1.0                pyhd3eb1b0_1  \n",
      "backports.weakref         1.0.post1                  py_1  \n",
      "base58                    2.1.0                    pypi_0    pypi\n",
      "bcrypt                    3.2.0            py38he774522_0  \n",
      "beautifulsoup4            4.9.3              pyha847dfd_0  \n",
      "bitarray                  1.9.1            py38h2bbff1b_1  \n",
      "bkcharts                  0.2                      py38_0  \n",
      "blas                      1.0                         mkl  \n",
      "bleach                    3.3.0              pyhd3eb1b0_0  \n",
      "blessings                 1.7                      pypi_0    pypi\n",
      "blinker                   1.4                      pypi_0    pypi\n",
      "blosc                     1.21.0               h19a0ad4_0  \n",
      "bokeh                     2.3.1            py38haa95532_0  \n",
      "boto                      2.49.0                   py38_0  \n",
      "boto3                     1.4.8                    pypi_0    pypi\n",
      "botocore                  1.8.50                   pypi_0    pypi\n",
      "bottleneck                1.3.2            py38h2a96729_1  \n",
      "branca                    0.4.1                      py_0    conda-forge\n",
      "brotli                    1.0.9                ha925a31_2  \n",
      "brotlipy                  0.7.0           py38h2bbff1b_1003  \n",
      "bs4                       0.0.1                    pypi_0    pypi\n",
      "bzip2                     1.0.8                he774522_0  \n",
      "c-ares                    1.17.1               h2bbff1b_0  \n",
      "ca-certificates           2020.12.5            h5b45459_0    conda-forge\n",
      "cachetools                4.2.1                    pypi_0    pypi\n",
      "cairo                     1.16.0            hf56ce5a_1006    conda-forge\n",
      "certifi                   2020.12.5        py38haa244fe_1    conda-forge\n",
      "cffi                      1.14.5           py38hcd4344a_0  \n",
      "cfitsio                   3.470                he774522_6  \n",
      "chardet                   4.0.0           py38haa95532_1003  \n",
      "click                     7.1.2              pyhd3eb1b0_0  \n",
      "click-completion          0.5.2                    pypi_0    pypi\n",
      "click-didyoumean          0.0.3                    pypi_0    pypi\n",
      "click-help-colors         0.9                      pypi_0    pypi\n",
      "click-plugins             1.1.1                      py_0  \n",
      "cliff                     3.7.0              pyhd8ed1ab_1    conda-forge\n",
      "cligj                     0.7.1            py38haa95532_0  \n",
      "cloudpickle               1.4.1                    pypi_0    pypi\n",
      "clyent                    1.2.2                    py38_1  \n",
      "cmaes                     0.8.2              pyh44b312d_0    conda-forge\n",
      "cmd2                      1.5.0            py38haa244fe_0    conda-forge\n",
      "colorama                  0.4.4              pyhd3eb1b0_0  \n",
      "colorful                  0.5.4                    pypi_0    pypi\n",
      "colorlog                  4.8.0            py38haa95532_1  \n",
      "comtypes                  1.1.9           py38haa95532_1002  \n",
      "conda                     4.10.0           py38haa244fe_1    conda-forge\n",
      "conda-build               3.18.11                  py38_1  \n",
      "conda-env                 2.6.0                         1  \n",
      "conda-package-handling    1.7.2            py38h76e460a_0  \n",
      "conda-verify              3.4.2                      py_1  \n",
      "console_shortcut          0.1.1                         4  \n",
      "constantly                15.1.0                     py_0  \n",
      "contextlib2               0.6.0.post1                py_0  \n",
      "cryptography              3.4.7            py38h71e12ea_0  \n",
      "cssselect                 1.1.0                      py_0  \n",
      "curl                      7.71.1               h4b64cdc_8    conda-forge\n",
      "curses                    2.2.1+utf8               pypi_0    pypi\n",
      "cycler                    0.10.0                   py38_0  \n",
      "cython                    0.29.22          py38hd77b12b_0  \n",
      "cytoolz                   0.11.0           py38he774522_0  \n",
      "dask                      2.19.0                   pypi_0    pypi\n",
      "dask-core                 2021.4.0           pyhd3eb1b0_0  \n",
      "dask-glm                  0.2.0                    py38_0  \n",
      "dask-ml                   1.8.0              pyhd3eb1b0_0  \n",
      "dask-xgboost              0.1.11             pyh9f0ad1d_0    conda-forge\n",
      "datedelta                 1.3                      pypi_0    pypi\n",
      "decorator                 4.4.2              pyhd3eb1b0_0  \n",
      "defusedxml                0.7.1              pyhd3eb1b0_0  \n",
      "deprecated                1.2.12             pyhd3eb1b0_0  \n",
      "descartes                 1.1.0                      py_4    conda-forge\n",
      "diff-match-patch          20200713                   py_0  \n",
      "distributed               2.19.0                   pypi_0    pypi\n",
      "docker                    4.4.1                    pypi_0    pypi\n",
      "docutils                  0.17             py38haa95532_1  \n",
      "dominate                  2.4.0                      py_0    conda-forge\n",
      "earthpy                   0.9.2                      py_0    conda-forge\n",
      "emoji                     1.2.0                    pypi_0    pypi\n",
      "entrypoints               0.3                      py38_0  \n",
      "et_xmlfile                1.0.1                   py_1001  \n",
      "expat                     2.2.10               h33f27b4_2  \n",
      "fake-useragent            0.1.11                   pypi_0    pypi\n",
      "fastcache                 1.1.0            py38he774522_0  \n",
      "filelock                  3.0.12             pyhd3eb1b0_1  \n",
      "fiona                     1.8.17           py38hcb65fe8_1    conda-forge\n",
      "flake8                    3.9.0              pyhd3eb1b0_0  \n",
      "flask                     1.1.2              pyhd3eb1b0_0  \n",
      "flask-bootstrap           3.3.7.1                    py_0    conda-forge\n",
      "folium                    0.11.0                     py_0    conda-forge\n",
      "freetype                  2.10.4               hd328e21_0  \n",
      "freexl                    1.0.6                h2bbff1b_0  \n",
      "fsspec                    0.9.0              pyhd3eb1b0_0  \n",
      "future                    0.18.2                   py38_1  \n",
      "fuzzywuzzy                0.18.0                   pypi_0    pypi\n",
      "gdal                      3.1.3            py38h8f7194f_1    conda-forge\n",
      "geckodriver               0.28.0               h39d44d4_0    conda-forge\n",
      "geojson                   2.5.0                    pypi_0    pypi\n",
      "geopandas                 0.8.1                      py_0  \n",
      "geos                      3.8.1                he025d50_0    conda-forge\n",
      "geotiff                   1.6.0                h8884d1a_3    conda-forge\n",
      "get_terminal_size         1.0.0                h38e98db_0  \n",
      "gettext                   0.19.8.1          h661274c_1003    conda-forge\n",
      "gevent                    21.1.2           py38h2bbff1b_1  \n",
      "gflags                    2.2.2                ha925a31_0  \n",
      "gitdb                     4.0.5                    pypi_0    pypi\n",
      "gitpython                 3.1.14                   pypi_0    pypi\n",
      "glib                      2.66.1               ha925a31_1    conda-forge\n",
      "glob2                     0.7                pyhd3eb1b0_0  \n",
      "glog                      0.4.0                h33f27b4_0  \n",
      "gmpy2                     2.0.8            py38h7edee0f_3  \n",
      "google                    3.0.0                    pypi_0    pypi\n",
      "google-api-core           1.26.2                   pypi_0    pypi\n",
      "google-auth               1.28.0                   pypi_0    pypi\n",
      "googleapis-common-protos  1.53.0                   pypi_0    pypi\n",
      "gpustat                   0.6.0                    pypi_0    pypi\n",
      "gradient                  1.4.3                    pypi_0    pypi\n",
      "gradient-utils            0.3.2                    pypi_0    pypi\n",
      "graphviz                  2.38                 hfd603c8_2    anaconda\n",
      "greenlet                  1.0.0            py38hd77b12b_2  \n",
      "grpc-cpp                  1.33.2               hd7e1925_2    conda-forge\n",
      "grpcio                    1.36.1                   pypi_0    pypi\n",
      "h5py                      2.10.0          nompi_py38h6053941_105    conda-forge\n",
      "halo                      0.0.31                   pypi_0    pypi\n",
      "haversine                 2.3.0                    pypi_0    pypi\n",
      "hdf4                      4.2.13               h712560f_2  \n",
      "hdf5                      1.10.6          nompi_h89124ea_1110    conda-forge\n",
      "heapdict                  1.0.1                      py_0  \n",
      "hiredis                   2.0.0                    pypi_0    pypi\n",
      "html5lib                  1.1                        py_0  \n",
      "httmock                   1.4.0                    pypi_0    pypi\n",
      "http-request-randomizer   1.3.2                    pypi_0    pypi\n",
      "hyperlink                 21.0.0             pyhd3eb1b0_0  \n",
      "hyperopt                  0.1.2                    pypi_0    pypi\n",
      "icc_rt                    2019.0.0             h0cc432a_1  \n",
      "icu                       67.1                 h33f27b4_0    conda-forge\n",
      "idna                      2.10               pyhd3eb1b0_0  \n",
      "imageio                   2.9.0              pyhd3eb1b0_0  \n",
      "imagesize                 1.2.0              pyhd3eb1b0_0  \n",
      "importlib-metadata        3.10.0           py38haa95532_0  \n",
      "importlib-resources       4.1.1                    pypi_0    pypi\n",
      "importlib_metadata        3.10.0               hd3eb1b0_0  \n",
      "incremental               17.5.0           py38haa95532_0  \n",
      "iniconfig                 1.1.1              pyhd3eb1b0_0  \n",
      "intel-openmp              2020.2                      254  \n",
      "intervaltree              3.1.0                      py_0  \n",
      "ipykernel                 5.3.2            py38h5ca1d4c_0  \n",
      "ipython                   7.22.0           py38hd4e2768_0  \n",
      "ipython_genutils          0.2.0              pyhd3eb1b0_1  \n",
      "ipywidgets                7.6.3              pyhd3eb1b0_1  \n",
      "isort                     5.8.0              pyhd3eb1b0_0  \n",
      "itemadapter               0.2.0              pyhd3eb1b0_0  \n",
      "itemloaders               1.0.4              pyhd3eb1b0_0  \n",
      "itsdangerous              1.1.0              pyhd3eb1b0_0  \n",
      "jdcal                     1.4.1                      py_0  \n",
      "jedi                      0.17.1                   py38_0  \n",
      "jinja2                    2.11.3             pyhd3eb1b0_0  \n",
      "jmespath                  0.10.0                     py_0  \n",
      "joblib                    1.0.0                    pypi_0    pypi\n",
      "jpeg                      9d                   he774522_0    conda-forge\n",
      "json5                     0.9.5                      py_0  \n",
      "jsonschema                3.2.0                      py_2  \n",
      "jupyter                   1.0.0                    py38_7  \n",
      "jupyter_client            6.1.12             pyhd3eb1b0_0  \n",
      "jupyter_console           6.4.0              pyhd3eb1b0_0  \n",
      "jupyter_contrib_core      0.3.3                      py_2    conda-forge\n",
      "jupyter_contrib_nbextensions 0.5.1                    py38_0    conda-forge\n",
      "jupyter_core              4.7.1            py38haa95532_0  \n",
      "jupyter_highlight_selected_word 0.2.0                 py38_1000    conda-forge\n",
      "jupyter_latex_envs        1.4.4                 py38_1000    conda-forge\n",
      "jupyter_nbextensions_configurator 0.4.1            py38h32f6830_1    conda-forge\n",
      "jupyter_server            1.4.1            py38haa95532_0  \n"
     ]
    },
    {
     "name": "stdout",
     "output_type": "stream",
     "text": [
      "jupyterlab                3.0.8              pyhd8ed1ab_0    conda-forge\n",
      "jupyterlab_pygments       0.1.2                      py_0  \n",
      "jupyterlab_server         2.4.0              pyhd3eb1b0_0  \n",
      "jupyterlab_widgets        1.0.0              pyhd3eb1b0_1  \n",
      "kaggle                    1.5.12                   pypi_0    pypi\n",
      "kealib                    1.4.13               h3b59ab9_1    conda-forge\n",
      "keyring                   22.3.0           py38haa95532_0  \n",
      "kiwisolver                1.3.1            py38hd77b12b_0  \n",
      "krb5                      1.17.1               hc04afaa_0  \n",
      "langdetect                1.0.7                      py_0    conda-forge\n",
      "lazy-object-proxy         1.6.0            py38h2bbff1b_0  \n",
      "lazypredict               0.2.9                    pypi_0    pypi\n",
      "libarchive                3.4.2                h5e25573_0  \n",
      "libboost                  1.67.0               hd9e427e_4  \n",
      "libclang                  10.0.1          default_hf44288c_1    conda-forge\n",
      "libcurl                   7.71.1               h4b64cdc_8    conda-forge\n",
      "libevent                  2.1.8                h7a1dbc1_1  \n",
      "libffi                    3.2.1             ha925a31_1007  \n",
      "libgdal                   3.1.3                h0e5aa5a_1    conda-forge\n",
      "libglib                   2.66.1               h31c07e1_1    conda-forge\n",
      "libiconv                  1.16                 he774522_0    conda-forge\n",
      "libkml                    1.3.0                he5f2a48_4  \n",
      "liblief                   0.10.1               ha925a31_0  \n",
      "libllvm9                  9.0.1                h21ff451_0  \n",
      "libnetcdf                 4.7.4           nompi_h256d12c_105    conda-forge\n",
      "libpng                    1.6.37               h2a8f88b_0  \n",
      "libpq                     12.3                 hd9aa61d_2    conda-forge\n",
      "libprotobuf               3.14.0               h23ce68f_0  \n",
      "libpysal                  4.3.0                    pypi_0    pypi\n",
      "libsodium                 1.0.18               h62dcd97_0  \n",
      "libspatialindex           1.9.3                h6c2663c_0  \n",
      "libspatialite             5.0.0                hf693123_0    conda-forge\n",
      "libssh2                   1.9.0                h7a1dbc1_1  \n",
      "libthrift                 0.13.0               he1d8c1a_6  \n",
      "libtiff                   4.2.0                hd0e1b90_0  \n",
      "libutf8proc               2.6.1                h2bbff1b_0  \n",
      "libwebp-base              1.2.0                h2bbff1b_0  \n",
      "libxgboost                1.3.3                h0e60522_2    conda-forge\n",
      "libxml2                   2.9.10               hb89e7f3_3  \n",
      "libxslt                   1.1.34               he774522_0  \n",
      "lightgbm                  2.3.1                    pypi_0    pypi\n",
      "llvmlite                  0.33.0           py38ha925a31_0  \n",
      "locket                    0.2.1            py38haa95532_1  \n",
      "log-symbols               0.0.14                   pypi_0    pypi\n",
      "lxml                      4.6.3            py38h9b66d53_0  \n",
      "lz4-c                     1.9.2                hf4a77e7_3  \n",
      "lzo                       2.10                 he774522_2  \n",
      "m2w64-gcc-libgfortran     5.3.0                         6  \n",
      "m2w64-gcc-libs            5.3.0                         7  \n",
      "m2w64-gcc-libs-core       5.3.0                         7  \n",
      "m2w64-gmp                 6.1.0                         2  \n",
      "m2w64-libwinpthread-git   5.0.0.4634.697f757               2  \n",
      "mako                      1.1.4              pyhd3eb1b0_0  \n",
      "mapclassify               2.3.0                      py_0    conda-forge\n",
      "markupsafe                1.1.1            py38he774522_0  \n",
      "marshmallow               2.21.0                   pypi_0    pypi\n",
      "matplotlib                3.3.4            py38haa95532_0  \n",
      "matplotlib-base           3.3.4            py38h49ac443_0  \n",
      "mccabe                    0.6.1                    py38_1  \n",
      "menuinst                  1.4.16           py38he774522_1  \n",
      "mistune                   0.8.4           py38he774522_1000  \n",
      "mkl                       2020.2                      256  \n",
      "mkl-service               2.3.0            py38h196d8e1_0  \n",
      "mkl_fft                   1.3.0            py38h46781fe_0  \n",
      "mkl_random                1.1.1            py38h47e9c7a_0  \n",
      "mock                      4.0.3              pyhd3eb1b0_0  \n",
      "modin                     0.9.1                    pypi_0    pypi\n",
      "modin-spreadsheet         0.1.1                    pypi_0    pypi\n",
      "more-itertools            8.7.0              pyhd3eb1b0_0  \n",
      "mpc                       1.1.0                h7edee0f_1  \n",
      "mpfr                      4.0.2                h62dcd97_1  \n",
      "mpir                      3.0.0                hec2e145_1  \n",
      "mpmath                    1.2.1            py38haa95532_0  \n",
      "msgpack-python            1.0.2            py38h59b6b97_1  \n",
      "msys2-conda-epoch         20160418                      1  \n",
      "multidict                 5.1.0                    pypi_0    pypi\n",
      "multipledispatch          0.6.0                    py38_0  \n",
      "munch                     2.5.0                      py_0  \n",
      "navigator-updater         0.2.1                    py38_0  \n",
      "nbclassic                 0.2.6              pyhd3eb1b0_0  \n",
      "nbclient                  0.5.3              pyhd3eb1b0_0  \n",
      "nbconvert                 6.0.7                    py38_0  \n",
      "nbformat                  5.1.3              pyhd3eb1b0_0  \n",
      "nest-asyncio              1.5.1              pyhd3eb1b0_0  \n",
      "networkx                  2.5.1              pyhd3eb1b0_0  \n",
      "nltk                      3.5                        py_0  \n",
      "nose                      1.3.7           pyhd3eb1b0_1006  \n",
      "notebook                  6.3.0            py38haa95532_0  \n",
      "numba                     0.51.0rc1       np1.11py3.8hf9181ef_g833c5907c_0    numba\n",
      "numexpr                   2.7.3            py38hcbcaa1e_0  \n",
      "numpy                     1.18.5                   pypi_0    pypi\n",
      "numpy-base                1.19.2           py38ha3acd2a_0  \n",
      "numpydoc                  1.1.0              pyhd3eb1b0_1  \n",
      "nvidia-ml-py3             7.352.0                  pypi_0    pypi\n",
      "olefile                   0.46                       py_0  \n",
      "opencensus                0.7.12                   pypi_0    pypi\n",
      "opencensus-context        0.1.2                    pypi_0    pypi\n",
      "openjpeg                  2.3.1                h57dd2e7_3    conda-forge\n",
      "openpyxl                  3.0.7              pyhd3eb1b0_0  \n",
      "openrouteservice          2.3.0                    pypi_0    pypi\n",
      "openssl                   1.1.1k               h8ffe710_0    conda-forge\n",
      "optuna                    2.6.0              pyhd8ed1ab_0    conda-forge\n",
      "osmapi                    1.3.0                    pypi_0    pypi\n",
      "osmnx                     0.16.1             pyh9f0ad1d_0    conda-forge\n",
      "osmpythontools            0.2.9                    pypi_0    pypi\n",
      "packaging                 20.9               pyhd3eb1b0_0  \n",
      "palettable                3.3.0                      py_0  \n",
      "pandas                    1.2.3            py38hf11a4ad_0  \n",
      "pandoc                    2.12                 haa95532_0  \n",
      "pandocfilters             1.4.3            py38haa95532_1  \n",
      "paramiko                  2.7.2                      py_0  \n",
      "parquet-cpp               1.5.1                         2    conda-forge\n",
      "parse                     1.18.0                   pypi_0    pypi\n",
      "parsel                    1.5.2            py38haa95532_0  \n",
      "parso                     0.7.0                      py_0  \n",
      "partd                     1.1.0                      py_0  \n",
      "path                      15.1.2           py38haa95532_0  \n",
      "path.py                   12.5.0                        0  \n",
      "pathlib2                  2.3.5            py38haa95532_2  \n",
      "pathtools                 0.1.2                      py_1  \n",
      "patsy                     0.5.1                    py38_0  \n",
      "pbr                       5.5.1                      py_0  \n",
      "pcre                      8.44                 ha925a31_0  \n",
      "pep8                      1.7.1                    py38_0  \n",
      "pexpect                   4.8.0              pyhd3eb1b0_3  \n",
      "pickleshare               0.7.5           pyhd3eb1b0_1003  \n",
      "pillow                    8.2.0            py38h4fa10fc_0  \n",
      "pip                       21.0.1                   pypi_0    pypi\n",
      "pixman                    0.38.0            hfa6e2cd_1003    conda-forge\n",
      "pkginfo                   1.7.0            py38haa95532_0  \n",
      "plotly                    4.14.3             pyhd3eb1b0_0  \n",
      "pluggy                    0.13.1           py38haa95532_0  \n",
      "plumbum                   1.7.0                    pypi_0    pypi\n",
      "ply                       3.11                     py38_0  \n",
      "poppler                   0.89.0               h5d62644_1    conda-forge\n",
      "poppler-data              0.4.9                         1    conda-forge\n",
      "postgresql                12.3                 he14cc48_2    conda-forge\n",
      "powershell_shortcut       0.0.1                         3  \n",
      "prettytable               2.1.0              pyhd8ed1ab_0    conda-forge\n",
      "progressbar2              3.53.1                   pypi_0    pypi\n",
      "proj                      7.1.1                h7d85306_3    conda-forge\n",
      "prometheus_client         0.10.0             pyhd3eb1b0_0  \n",
      "prompt-toolkit            3.0.17             pyh06a4308_0  \n",
      "prompt_toolkit            3.0.17               hd3eb1b0_0  \n",
      "protego                   0.1.16                     py_0  \n",
      "protobuf                  3.15.6                   pypi_0    pypi\n",
      "psutil                    5.8.0            py38h2bbff1b_1  \n",
      "ptyprocess                0.7.0              pyhd3eb1b0_2  \n",
      "py                        1.10.0             pyhd3eb1b0_0  \n",
      "py-lief                   0.10.1           py38ha925a31_0  \n",
      "py-spy                    0.3.5                    pypi_0    pypi\n",
      "py-xgboost                1.3.3            py38haa244fe_2    conda-forge\n",
      "pyarrow                   1.0.0                    pypi_0    pypi\n",
      "pyasn1                    0.4.8                      py_0  \n",
      "pyasn1-modules            0.2.8                      py_0  \n",
      "pycodestyle               2.6.0              pyhd3eb1b0_0  \n",
      "pycosat                   0.6.3            py38h2bbff1b_0  \n",
      "pycparser                 2.20                       py_2  \n",
      "pycurl                    7.43.0.6         py38h7a1dbc1_0  \n",
      "pydeck                    0.6.1                    pypi_0    pypi\n",
      "pydispatcher              2.0.5            py38haa95532_1  \n",
      "pydocstyle                6.0.0              pyhd3eb1b0_0  \n",
      "pydot                     1.4.1                    pypi_0    pypi\n",
      "pydotplus                 2.0.2                      py_3  \n",
      "pyee                      7.0.4                    pypi_0    pypi\n",
      "pyenchant                 3.2.0                    pypi_0    pypi\n",
      "pyerfa                    1.7.2            py38h2bbff1b_0  \n",
      "pyflakes                  2.2.0              pyhd3eb1b0_0  \n",
      "pygments                  2.8.1              pyhd3eb1b0_0  \n",
      "pyhamcrest                2.0.2              pyhd3eb1b0_2  \n",
      "pylint                    2.7.4            py38haa95532_1  \n",
      "pyls                      0.1.6                    pypi_0    pypi\n",
      "pymongo                   3.11.3                   pypi_0    pypi\n",
      "pynacl                    1.4.0            py38h62dcd97_1  \n",
      "pyodbc                    4.0.30           py38ha925a31_0  \n",
      "pyopenssl                 20.0.1             pyhd3eb1b0_1  \n",
      "pyparsing                 2.4.7              pyhd3eb1b0_0  \n",
      "pyperclip                 1.8.1              pyhd3deb0d_0    conda-forge\n",
      "pypiwin32                 223                      pypi_0    pypi\n",
      "pyppeteer                 0.2.2                    pypi_0    pypi\n",
      "pyproj                    2.6.1.post1      py38hbdc76b6_3    conda-forge\n",
      "pyqt                      5.12.3           py38h7ae7562_4    conda-forge\n",
      "pyqt5                     5.15.1                   pypi_0    pypi\n",
      "pyqt5-sip                 4.19.18                  pypi_0    pypi\n",
      "pyqtchart                 5.12                     pypi_0    pypi\n",
      "pyqtwebengine             5.15.1                   pypi_0    pypi\n",
      "pyquery                   1.4.3                    pypi_0    pypi\n",
      "pyreadline                2.1                      py38_1  \n",
      "pyreadline3               3.3              py38haa244fe_1    conda-forge\n",
      "pyrsistent                0.17.3           py38he774522_0  \n",
      "pysal                     2.1.0                      py_0    anaconda\n",
      "pysocks                   1.7.1            py38haa95532_0  \n",
      "pytables                  3.6.1            py38hd2a2a0e_2    conda-forge\n",
      "pytest                    6.2.3            py38haa95532_2  \n",
      "pytest-runner             5.3.0              pyhd3eb1b0_0  \n",
      "pytest-sugar              0.9.4                    pypi_0    pypi\n",
      "python                    3.8.3                he1778fa_2  \n",
      "python-dateutil           2.8.1              pyhd3eb1b0_0  \n",
      "python-editor             1.0.4                      py_0  \n",
      "python-graphviz           0.14                       py_0  \n",
      "python-jsonrpc-server     0.3.4                      py_1  \n",
      "python-language-server    0.19.0                   pypi_0    pypi\n",
      "python-levenshtein        0.12.0                   pypi_0    pypi\n",
      "python-libarchive-c       2.9                pyhd3eb1b0_1  \n",
      "python-slugify            4.0.1                    pypi_0    pypi\n",
      "python-utils              2.5.6                    pypi_0    pypi\n",
      "python_abi                3.8                      1_cp38    conda-forge\n",
      "pytz                      2021.1             pyhd3eb1b0_0  \n",
      "pywavelets                1.1.1            py38he774522_2  \n",
      "pywin32                   227              py38he774522_1  \n",
      "pywin32-ctypes            0.2.0                 py38_1000  \n",
      "pywinpty                  0.5.7                    py38_0  \n",
      "pyyaml                    5.4.1            py38h2bbff1b_1  \n",
      "pyzmq                     20.0.0           py38hd77b12b_1  \n",
      "qdarkstyle                3.0.2              pyhd3eb1b0_0  \n",
      "qt                        5.12.9               hb2cf2c5_0    conda-forge\n",
      "qtawesome                 1.0.2              pyhd3eb1b0_0  \n",
      "qtconsole                 5.0.3              pyhd3eb1b0_0  \n",
      "qtpy                      1.9.0                      py_0  \n",
      "queuelib                  1.5.0            py38haa95532_0  \n",
      "rasterio                  1.1.7            py38hf2e4ed7_1    conda-forge\n",
      "ray                       1.1.0                    pypi_0    pypi\n",
      "re2                       2020.11.01           hd77b12b_1  \n",
      "redis                     3.5.3                    pypi_0    pypi\n",
      "regex                     2021.4.4         py38h2bbff1b_0  \n",
      "requests                  2.25.1             pyhd3eb1b0_0  \n",
      "requests-html             0.10.0                   pypi_0    pypi\n",
      "requests-toolbelt         0.9.1                    pypi_0    pypi\n",
      "retrying                  1.3.3                      py_2  \n",
      "rope                      0.18.0                     py_0  \n",
      "rpyc                      4.1.5                    pypi_0    pypi\n",
      "rsa                       4.7.2                    pypi_0    pypi\n",
      "rtree                     0.9.4            py38h21ff451_1  \n",
      "ruamel_yaml               0.15.100         py38h2bbff1b_0  \n",
      "s3transfer                0.1.13                   pypi_0    pypi\n",
      "scikit-image              0.18.1           py38hf11a4ad_0  \n",
      "scikit-learn              0.23.1           py38h25d0782_0  \n",
      "scipy                     1.5.4                    pypi_0    pypi\n",
      "scorecardpy               0.1.9.2                  pypi_0    pypi\n",
      "scrapinghub               2.3.1                    pypi_0    pypi\n",
      "scrapy                    2.4.1            py38haa244fe_0    conda-forge\n",
      "seaborn                   0.11.1             pyhd3eb1b0_0  \n",
      "segregation               1.3.0                    pypi_0    pypi\n",
      "selenium                  3.141.0         py38h1e8a9f7_1002    conda-forge\n",
      "send2trash                1.5.0              pyhd3eb1b0_1  \n",
      "sentiment-classifier      0.7                      pypi_0    pypi\n",
      "service_identity          18.1.0                     py_0  \n",
      "setuptools                52.0.0           py38haa95532_0  \n",
      "shapely                   1.7.1            py38hc96c142_1    conda-forge\n",
      "shellingham               1.4.0                    pypi_0    pypi\n",
      "shub                      2.12.0                   pypi_0    pypi\n",
      "simplegeneric             0.8.1                    py38_2  \n",
      "singledispatch            3.6.1           pyhd3eb1b0_1001  \n",
      "sip                       4.19.25          py38hd77b12b_0  \n",
      "six                       1.15.0           py38haa95532_0  \n",
      "smmap                     3.0.5                    pypi_0    pypi\n",
      "snappy                    1.1.8                h33f27b4_0  \n",
      "sniffio                   1.2.0            py38haa95532_1  \n",
      "snowballstemmer           2.1.0              pyhd3eb1b0_0  \n",
      "snuggs                    1.4.7                      py_0  \n",
      "sortedcollections         2.1.0              pyhd3eb1b0_0  \n",
      "sortedcontainers          2.3.0              pyhd3eb1b0_0  \n",
      "soupsieve                 2.2.1              pyhd3eb1b0_0  \n",
      "sphinx                    3.5.3              pyhd3eb1b0_0  \n",
      "sphinxcontrib             1.0                      py38_1  \n",
      "sphinxcontrib-applehelp   1.0.2              pyhd3eb1b0_0  \n",
      "sphinxcontrib-devhelp     1.0.2              pyhd3eb1b0_0  \n",
      "sphinxcontrib-htmlhelp    1.0.3              pyhd3eb1b0_0  \n",
      "sphinxcontrib-jsmath      1.0.1              pyhd3eb1b0_0  \n",
      "sphinxcontrib-qthelp      1.0.3              pyhd3eb1b0_0  \n",
      "sphinxcontrib-serializinghtml 1.1.4              pyhd3eb1b0_0  \n",
      "sphinxcontrib-websupport  1.2.4                      py_0  \n",
      "spinners                  0.0.24                   pypi_0    pypi\n",
      "spyder                    4.1.5                    py38_0  \n",
      "spyder-kernels            1.9.4                    py38_0  \n",
      "sqlalchemy                1.4.5            py38h2bbff1b_0  \n",
      "sqlite                    3.35.4               h2bbff1b_0  \n",
      "statsmodels               0.12.2           py38h2bbff1b_0  \n",
      "stem                      1.8.0                    pypi_0    pypi\n",
      "stevedore                 3.3.0            py38haa244fe_1    conda-forge\n",
      "streamlit                 0.78.0                   pypi_0    pypi\n",
      "sweetviz                  2.0.4                    pypi_0    pypi\n",
      "sympy                     1.7.1            py38haa95532_0  \n",
      "tabulate                  0.8.9                    pypi_0    pypi\n",
      "tbb                       2020.3               h74a9793_0  \n",
      "tblib                     1.7.0                      py_0  \n",
      "tensorboardx              2.1                      pypi_0    pypi\n",
      "termcolor                 1.1.0                    pypi_0    pypi\n",
      "terminado                 0.9.4            py38haa95532_0  \n",
      "terminaltables            3.1.0                    pypi_0    pypi\n",
      "testpath                  0.4.4              pyhd3eb1b0_0  \n",
      "text-unidecode            1.3                      pypi_0    pypi\n",
      "threadpoolctl             2.1.0              pyh5ca1d4c_0  \n",
      "tifffile                  2020.10.1        py38h8c2d366_2  \n",
      "tiledb                    2.1.1                hfabd47f_1    conda-forge\n",
      "tk                        8.6.10               he774522_0  \n",
      "toml                      0.10.2             pyhd3eb1b0_0  \n",
      "toolz                     0.11.1             pyhd3eb1b0_0  \n",
      "tornado                   6.1              py38h2bbff1b_0  \n",
      "tqdm                      4.59.0             pyhd3eb1b0_1  \n",
      "traitlets                 5.0.5              pyhd3eb1b0_0  \n",
      "tune-sklearn              0.2.1                    pypi_0    pypi\n",
      "twisted                   21.2.0           py38h2bbff1b_0  \n",
      "twisted-iocpsupport       1.0.1            py38h2bbff1b_0  \n",
      "typing_extensions         3.7.4.3            pyha847dfd_0  \n",
      "tzlocal                   2.1                      pypi_0    pypi\n",
      "ujson                     1.35             py38he774522_0  \n",
      "unicodecsv                0.14.1                   py38_0  \n",
      "urllib3                   1.26.4             pyhd3eb1b0_0  \n",
      "validators                0.18.2                   pypi_0    pypi\n",
      "vc                        14.2                 h21ff451_1  \n",
      "visitor                   0.1.3              pyh9f0ad1d_1    conda-forge\n",
      "vs2015_runtime            14.27.29016          h5e58377_2  \n",
      "w3lib                     1.21.0                     py_0  \n",
      "watchdog                  1.0.2            py38haa95532_1  \n",
      "wcwidth                   0.2.5                      py_0  \n",
      "webencodings              0.5.1                    py38_1  \n",
      "websocket-client          0.57.0                   pypi_0    pypi\n",
      "websockets                8.1                      pypi_0    pypi\n",
      "werkzeug                  1.0.1              pyhd3eb1b0_0  \n",
      "wheel                     0.35.1                   pypi_0    pypi\n",
      "widgetsnbextension        3.5.1                    py38_0  \n",
      "win_inet_pton             1.1.0            py38haa95532_0  \n",
      "win_unicode_console       0.5                      py38_0  \n",
      "wincertstore              0.2                      py38_0  \n",
      "winpty                    0.4.3                         4  \n",
      "wrapt                     1.12.1           py38he774522_1  \n",
      "xarray                    0.16.1                   pypi_0    pypi\n",
      "xerces-c                  3.2.3                ha925a31_0  \n",
      "xgboost                   1.1.1                    pypi_0    pypi\n",
      "xlrd                      2.0.1              pyhd3eb1b0_0  \n",
      "xlsxwriter                1.2.9                      py_0  \n",
      "xlwings                   0.23.0           py38haa95532_0  \n",
      "xlwt                      1.3.0                    py38_0  \n",
      "xmltodict                 0.12.0                     py_0  \n",
      "xz                        5.2.5                h62dcd97_0  \n",
      "yaml                      0.2.5                he774522_0  \n",
      "yapf                      0.31.0             pyhd3eb1b0_0  \n",
      "yarl                      1.6.3                    pypi_0    pypi\n",
      "zeromq                    4.3.3                ha925a31_3  \n",
      "zict                      2.0.0              pyhd3eb1b0_0  \n",
      "zipp                      3.4.1              pyhd3eb1b0_0  \n",
      "zlib                      1.2.11               h62dcd97_4  \n",
      "zope                      1.0                      py38_1  \n",
      "zope.event                4.5.0                    py38_0  \n",
      "zope.interface            5.3.0            py38h2bbff1b_0  \n",
      "zstd                      1.4.5                h04227a9_0  \n",
      "zxcvbn                    4.4.28                   pypi_0    pypi\n"
     ]
    }
   ],
   "source": [
    "!conda list"
   ]
  },
  {
   "cell_type": "code",
   "execution_count": null,
   "metadata": {},
   "outputs": [],
   "source": []
  }
 ],
 "metadata": {
  "kernelspec": {
   "display_name": "Python 3",
   "language": "python",
   "name": "python3"
  },
  "language_info": {
   "codemirror_mode": {
    "name": "ipython",
    "version": 3
   },
   "file_extension": ".py",
   "mimetype": "text/x-python",
   "name": "python",
   "nbconvert_exporter": "python",
   "pygments_lexer": "ipython3",
   "version": "3.8.3"
  },
  "toc": {
   "base_numbering": 1,
   "nav_menu": {},
   "number_sections": true,
   "sideBar": true,
   "skip_h1_title": false,
   "title_cell": "Table of Contents",
   "title_sidebar": "Contents",
   "toc_cell": false,
   "toc_position": {},
   "toc_section_display": true,
   "toc_window_display": false
  }
 },
 "nbformat": 4,
 "nbformat_minor": 2
}
